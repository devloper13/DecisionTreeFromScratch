{
 "cells": [
  {
   "cell_type": "code",
   "execution_count": 304,
   "metadata": {},
   "outputs": [],
   "source": [
    "import numpy as np\n",
    "import pandas as pd\n",
    "import math\n",
    "import operator\n",
    "import matplotlib.pyplot as plt\n",
    "from sklearn.model_selection import KFold\n",
    "import sys"
   ]
  },
  {
   "cell_type": "code",
   "execution_count": 597,
   "metadata": {},
   "outputs": [],
   "source": [
    "def get_test_train_with_header(location):\n",
    "    location = '~/Documents/SMAI/Assignment2/' + location\n",
    "    dataframe = pd.read_csv(location)\n",
    "    #dataframe = dataframe.sample(frac=1).reset_index(drop=True)\n",
    "    train  = dataframe[:int(0.2*len(dataframe))]\n",
    "    test = dataframe[int(0.2*len(dataframe)):]\n",
    "    return test,train"
   ]
  },
  {
   "cell_type": "code",
   "execution_count": 279,
   "metadata": {},
   "outputs": [],
   "source": [
    "def get_test_train(location):\n",
    "    location = '~/Documents/SMAI/Assignment2/' + location\n",
    "    dataframe = pd.read_csv(location,header=None)\n",
    "    #dataframe = dataframe.sample(frac=1).reset_index(drop=True)\n",
    "    train  = dataframe[:int(0.8*len(dataframe))]\n",
    "    test = dataframe[int(0.8*len(dataframe)):]\n",
    "    return test,train"
   ]
  },
  {
   "cell_type": "code",
   "execution_count": 446,
   "metadata": {},
   "outputs": [],
   "source": [
    "'''\n",
    "USED IN LINEAR REGRESSION\n",
    "'''\n",
    "def MeanSquaredError(X,B,Y,lamb,reg='L0'):\n",
    "    m = X.shape[0]\n",
    "    cost = (1/(m))*np.sum((X.dot(B) - Y)**2)\n",
    "    return(cost)"
   ]
  },
  {
   "cell_type": "code",
   "execution_count": 574,
   "metadata": {},
   "outputs": [],
   "source": [
    "'''\n",
    "USED IN LINEAR REGRESSION\n",
    "'''\n",
    "def gradient_descent(X,B,Y,alpha,lamb,reg='L0'):\n",
    "    m = len(Y)\n",
    "    cost = 0\n",
    "    for i in range(1000):\n",
    "        #print(B)\n",
    "        if reg == 'L2': \n",
    "            bias = B[0]\n",
    "            B -= alpha*((1/m)*(X.T.dot((X.dot(B) - Y))) + lamb*2*B)\n",
    "            B[0] = B[0] + alpha*(lamb*2*bias)\n",
    "        elif reg == 'L1':\n",
    "            bias = B[0]\n",
    "            B -= alpha*((1/m)*(X.T.dot((X.dot(B) - Y))) + lamb*np.sign(B))\n",
    "            B[0] = B[0] + alpha*(lamb*np.sign(bias))\n",
    "            #print(B[0])\n",
    "        else:\n",
    "            B -= alpha*(1/m)*(X.T.dot((X.dot(B) - Y)))\n",
    "        #cost = cost_function(X,B,Y)\n",
    "        #print(cost)\n",
    "    return B,cost"
   ]
  },
  {
   "cell_type": "code",
   "execution_count": 432,
   "metadata": {},
   "outputs": [],
   "source": [
    "'''\n",
    "USED IN LINEAR REGRESSION\n",
    "'''\n",
    "def predictLinear(test,target,B,lamb,reg='L0'):\n",
    "    #print(test)\n",
    "    X = []\n",
    "    x0 = np.ones(test.shape[0])\n",
    "    columns = test.shape[1]\n",
    "    X.append(list(x0))\n",
    "    for col in range(1,columns):\n",
    "        if col!=target:\n",
    "            #print(test[:,col])\n",
    "            normalized_col = list(((test[:,col]) - np.mean(test[:,col]))/\\\n",
    "                                   ((np.std(test[:,col]))))\n",
    "            X.append(normalized_col)\n",
    "    #print(X)\n",
    "    X = np.array(X).T\n",
    "    Y = np.array(test[:,target])\n",
    "    predicted_y = X.dot(B)\n",
    "    #score = r2_score(Y,predicted_y)\n",
    "    err = MeanSquaredError(X,B,Y,lamb,reg)\n",
    "    return X,predicted_y,err"
   ]
  },
  {
   "cell_type": "code",
   "execution_count": 543,
   "metadata": {},
   "outputs": [],
   "source": [
    "'''\n",
    "USED IN LINEAR REGRESSION\n",
    "'''\n",
    "def LinearRegressionFit(test,train,target,lamb,reg='L0'):\n",
    "    #get X matrx which consists all features\n",
    "    X = []\n",
    "    x0 = np.ones(train.shape[0])\n",
    "    columns = train.shape[1]\n",
    "    X.append(list(x0))\n",
    "    for col in range(1,columns):\n",
    "        if col!=target:\n",
    "            normalized_col = list(((train[:,col]) - np.mean(train[:,col]))/\\\n",
    "                                   ((np.std(train[:,col]))))\n",
    "            X.append(normalized_col)       \n",
    "    X = np.array(X).T\n",
    "    B = np.array(np.zeros(columns-1))\n",
    "    Y = np.array(train[:,target])\n",
    "    alpha = 0.01\n",
    "    B,cost = gradient_descent(X,B,Y,alpha,lamb,reg)\n",
    "    return(B)"
   ]
  },
  {
   "cell_type": "markdown",
   "metadata": {},
   "source": [
    "## Question - 1"
   ]
  },
  {
   "cell_type": "code",
   "execution_count": 612,
   "metadata": {},
   "outputs": [],
   "source": [
    "#location = '~/Documents/SMAI/Assignment2/AdmissionDataset/data.csv'\n",
    "location = 'AdmissionDataset/data.csv'\n",
    "test,train = get_test_train_with_header(location)\n",
    "train = train.values\n",
    "test = test.values\n",
    "target = 8\n",
    "lamb = 0\n",
    "lambList=[]\n",
    "errList=[]\n",
    "valerrList=[]\n",
    "while lamb<50:\n",
    "    slopeValues = LinearRegressionFit(np.array(test),np.array(train),target,lamb,'L1')\n",
    "    X,predicted_y,err = predictLinear(np.array(test),target,slopeValues,lamb,'L1')\n",
    "    X,predicted_y,verr = predictLinear(np.array(train),target,slopeValues,lamb,'L1')\n",
    "    lambList.append(lamb)\n",
    "    errList.append(err)\n",
    "    valerrList.append(verr)\n",
    "    #print(err)\n",
    "    lamb+=0.1"
   ]
  },
  {
   "cell_type": "code",
   "execution_count": 613,
   "metadata": {},
   "outputs": [
    {
     "data": {
      "image/png": "[encoded data removed]",
      "text/plain": [
       "<Figure size 432x288 with 1 Axes>"
      ]
     },
     "metadata": {
      "needs_background": "light"
     },
     "output_type": "display_data"
    }
   ],
   "source": [
    "plt.plot(lambList,errList,label=\"Validation Error\")\n",
    "plt.plot(lambList,valerrList,label = \"Training Error\")\n",
    "plt.xlabel(\"lamda\")\n",
    "plt.ylabel(\"Error\")\n",
    "plt.legend()\n",
    "plt.show()"
   ]
  },
  {
   "cell_type": "markdown",
   "metadata": {},
   "source": [
    "## Question - 2"
   ]
  },
  {
   "cell_type": "code",
   "execution_count": 598,
   "metadata": {},
   "outputs": [],
   "source": [
    "#location = '~/Documents/SMAI/Assignment2/AdmissionDataset/data.csv'\n",
    "location = 'AdmissionDataset/data.csv'\n",
    "test,train = get_test_train_with_header(location)\n",
    "train = train.values\n",
    "test = test.values\n",
    "target = 8\n",
    "lamb = 0\n",
    "lambList=[]\n",
    "errList=[]\n",
    "valerrList = []\n",
    "while lamb<50:\n",
    "    slopeValues = LinearRegressionFit(np.array(test),np.array(train),target,lamb,'L2')\n",
    "    X,predicted_y,err = predictLinear(np.array(test),target,slopeValues,lamb,'L2')\n",
    "    #print(err)\n",
    "    X,predicted_y,verr = predictLinear(np.array(train),target,slopeValues,lamb,'L2')\n",
    "    lambList.append(lamb)\n",
    "    errList.append(err)\n",
    "    valerrList.append(verr)\n",
    "    lamb+=1\n",
    "#print(\"Error : \",err)"
   ]
  },
  {
   "cell_type": "code",
   "execution_count": 599,
   "metadata": {},
   "outputs": [
    {
     "data": {
      "image/png": "[encoded data removed]",
      "text/plain": [
       "<Figure size 432x288 with 1 Axes>"
      ]
     },
     "metadata": {
      "needs_background": "light"
     },
     "output_type": "display_data"
    }
   ],
   "source": [
    "plt.plot(lambList,errList,label='Validation Error')\n",
    "plt.plot(lambList,valerrList,label = 'Training Error')\n",
    "plt.xlabel(\"lamda\")\n",
    "plt.ylabel(\"Error\")\n",
    "plt.title(\"L2 Regularization (Ridge)\")\n",
    "plt.legend()\n",
    "plt.show() "
   ]
  },
  {
   "cell_type": "markdown",
   "metadata": {},
   "source": [
    "## Question - 5"
   ]
  },
  {
   "cell_type": "code",
   "execution_count": 589,
   "metadata": {},
   "outputs": [],
   "source": [
    "location = 'AdmissionDataset/data.csv'\n",
    "test,train = get_test_train_with_header(location)\n",
    "train = train.values\n",
    "target=8\n",
    "klist = []\n",
    "acclist = []\n",
    "for knum in range(2,11,1):\n",
    "    klist.append(knum)\n",
    "    kf = KFold(n_splits=knum)\n",
    "    sumk=0\n",
    "    size=0\n",
    "    for train_index, test_index in kf.split(train):\n",
    "        size = len(train_index)\n",
    "        trainData = train[train_index]\n",
    "        testData = train[test_index]\n",
    "        slopeValues = LinearRegressionFit(testData,trainData,target,0.3,'L2')\n",
    "        X,predicted_y,err = predictLinear(testData,target,slopeValues,0.3,'L2')\n",
    "        sumk+=err\n",
    "    acclist.append(sumK/size)"
   ]
  },
  {
   "cell_type": "code",
   "execution_count": 590,
   "metadata": {},
   "outputs": [
    {
     "data": {
      "image/png": "[encoded data removed]",
      "text/plain": [
       "<Figure size 432x288 with 1 Axes>"
      ]
     },
     "metadata": {
      "needs_background": "light"
     },
     "output_type": "display_data"
    }
   ],
   "source": [
    "plt.plot(klist,acclist)\n",
    "plt.xlabel(\"K Value\")\n",
    "plt.ylabel(\"Error\")\n",
    "plt.title(\"K-Fold Validation\")\n",
    "plt.show()"
   ]
  },
  {
   "cell_type": "code",
   "execution_count": null,
   "metadata": {},
   "outputs": [],
   "source": []
  },
  {
   "cell_type": "code",
   "execution_count": null,
   "metadata": {},
   "outputs": [],
   "source": []
  }
 ],
 "metadata": {
  "kernelspec": {
   "display_name": "Python 3",
   "language": "python",
   "name": "python3"
  },
  "language_info": {
   "codemirror_mode": {
    "name": "ipython",
    "version": 3
   },
   "file_extension": ".py",
   "mimetype": "text/x-python",
   "name": "python",
   "nbconvert_exporter": "python",
   "pygments_lexer": "ipython3",
   "version": "3.7.1"
  }
 },
 "nbformat": 4,
 "nbformat_minor": 2
}
