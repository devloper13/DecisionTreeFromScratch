{
 "cells": [
  {
   "cell_type": "code",
   "execution_count": 102,
   "metadata": {},
   "outputs": [],
   "source": [
    "import numpy as np\n",
    "import pandas as pd\n",
    "import math\n",
    "import operator\n",
    "import matplotlib.pyplot as plt\n",
    "import pprint"
   ]
  },
  {
   "cell_type": "code",
   "execution_count": 103,
   "metadata": {},
   "outputs": [],
   "source": [
    "def get_test_train(location):\n",
    "    location = '~/Documents/SMAI/Assignment2/' + location\n",
    "    dataframe = pd.read_csv(location,header=None)\n",
    "    train  = dataframe[:int(0.8*len(dataframe))]\n",
    "    test = dataframe[int(0.8*len(dataframe)):]\n",
    "    return test,train"
   ]
  },
  {
   "cell_type": "code",
   "execution_count": 104,
   "metadata": {},
   "outputs": [],
   "source": [
    "def get_test_train_with_header(location):\n",
    "    location = '~/Documents/SMAI/Assignment2/' + location\n",
    "    dataframe = pd.read_csv(location)\n",
    "    train  = dataframe[:int(0.8*len(dataframe))]\n",
    "    test = dataframe[int(0.8*len(dataframe)):]\n",
    "    return test,train"
   ]
  },
  {
   "cell_type": "markdown",
   "metadata": {},
   "source": [
    "##  I. K- Nearest Neighbour (KNN)\n",
    "KNN is one of the most simplest to implement algorithms in Machine Learning. It deals with calculating       distance (of a new data point) with respect to all other data points and finds K nearest neighbout to classify in of the labels.\n",
    "\n",
    "An advantage of KNN is that there is no actual training done unlike other machine learning algorithms. More details mentioned in the algorithm below.\n",
    "\n",
    "### Algorithm\n",
    "1. For every new data point, find the distance between each anad every other already existing data points and    store in a list. The distance can be found by minkowski measure which is discussed in the next segment.<br><br>\n",
    "\n",
    "2. Once distance of a data point from all other data points is found, find those 'K' elements which are          nearest to the data point in question. This can be found by sorting the list of distances. The most            efficient way to sort is using a heap. For simplicity we have used a list.<br><br>\n",
    "\n",
    "3. Among the 'K' nearest points, find the most frequently occuring label and classify the unknown data point      to that label.\n",
    "\n",
    "The below function <b>KNN()</b> does the above mentioned steps. \n",
    "\n",
    "### Minkowski Distance\n",
    "\n",
    "The minkowski distance is of the form : $\\sum_{i \\in R}|x_i - t_i|^{p}$ where <b>R</b> is a row which represents a data point and <b>i</b> is each field in the row, <b>x</b> is an already data point and <b>t</b> is a new data point to be classified.\n",
    "\n",
    "It is important to note that Minkowski is a generalized distnace formula.The value <b>p</b> defines which distance is used. when <b>p</b> equals 1, it is known as <b>Euclidian Distance</b>.\n",
    "\n",
    "When <b>p</b> equals 2, it is known as <b>Manhattan distance</b>. We have used only these two measures however there are many more distnace metrics out of the Minkowski distance. <b>minkowski_predict</b> calculates the above expression"
   ]
  },
  {
   "cell_type": "code",
   "execution_count": 105,
   "metadata": {},
   "outputs": [],
   "source": [
    "'''\n",
    "USED IN KNN\n",
    "'''\n",
    "def minkowski_predict(test_row,train_row,power,target):\n",
    "    dist = 0\n",
    "    for attribute in range(0,len(test_row)):\n",
    "        if attribute != target:\n",
    "            dist+=(pow(abs(test_row[attribute] - train_row[attribute]),power))\n",
    "    return dist"
   ]
  },
  {
   "cell_type": "code",
   "execution_count": 106,
   "metadata": {
    "scrolled": false
   },
   "outputs": [],
   "source": [
    "'''\n",
    "USED IN KNN\n",
    "'''\n",
    "def getsecond(item):\n",
    "    return item[1]\n",
    "\n",
    "\n",
    "def KNN(test,train,K,dist_measure,target):\n",
    "    unique_values = np.unique(train.values[:,target])\n",
    "    maxval = -1\n",
    "    winner = None\n",
    "    class_dict = {}\n",
    "    for classVal in unique_values:\n",
    "        class_dict[classVal] = 0\n",
    "  \n",
    "    if dist_measure == 'euclid':\n",
    "        power = 2\n",
    "    elif dist_measure == 'man':\n",
    "        power = 1\n",
    "    predicted = []\n",
    "    for test_row in test.values:\n",
    "        #print(test_row)\n",
    "        knn = []\n",
    "        maxval = -1\n",
    "        winner = None\n",
    "        for train_row in train.values:\n",
    "            #print(train_row)\n",
    "            #print(test_row)\n",
    "            y = minkowski_predict(test_row,train_row,power,target)\n",
    "            #print(y)\n",
    "            knn.append((train_row[target],y))\n",
    "        knn.sort(key = getsecond)\n",
    "        \n",
    "        #print(knn)\n",
    "        for i in range(0,K):\n",
    "            class_dict[knn[i][0]]+=1\n",
    "            #if class_dict[knn[i][0]] > maxval:\n",
    "            #    winner = knn[i][0]\n",
    "            #    maxval = class_dict[knn[i][0]]\n",
    "        winner = max(class_dict.items(),key=operator.itemgetter(1))[0]    \n",
    "        predicted.append(winner)\n",
    "        #print(class_dict)\n",
    "        for classVal in unique_values:\n",
    "            class_dict[classVal] = 0\n",
    "    return predicted        "
   ]
  },
  {
   "cell_type": "markdown",
   "metadata": {},
   "source": [
    "## II. Naive Bayes\n",
    "\n",
    "Naive Bayes algorithm is a classifier like KNN but uses bayes theorem for classification.\n",
    "\n",
    "Naive bayes theroem states that the probablity of an event A given an occured event B is the product of the probability of event A and the probability of other events given A has occured. The above can be formulated like this: $P(A|B) = \\dfrac{P(A)P(B|A)}{P(B)}$\n",
    "\n",
    "Here, we will treat features that are categorical and continuous differently. For the features that are categorical we will find the probability of a label(class) within different categories of a feature.\n",
    "For numeric columns we will use Gaussian Naive Bayes which requires the mean and variance of the feature.\n",
    "\n",
    "<b>Gaussian Naive Bayes</b> : $P(x|y) = \\dfrac{1}{\\sqrt{2\\pi\\sigma_y^{2}}}\\exp\\Bigg({\\dfrac{-(x-\\mu_y)^2}{2\\sigma_y^2}}\\Bigg)$ <br>\n",
    "where $\\mu_y$ is the mean of the exisiting values of the feature and $\\sigma_y$ is the variance of the same $x$ is the value whose probability is to be found. <br>\n",
    "\n",
    "### Algorithm\n",
    "\n",
    "1. From each feature that is categorical, for each category in it, find the probability of the occurance each label (example: Probability of playing(target) is 'Yes'(label) given temperature(feature) is 'Hot'(category) ). By this we calculate the likelihood.\n",
    "\n",
    "2. For every numerical feature, we calculate the mean and the variance which will be useful in calculating the gaussian distribution of the unknown value later.\n",
    "\n",
    "3. Once the model is created using ideas meantioned above, we ue this model to predict the posterior probability using the prior and likelihood for categorical features, gaussian distribution for continuous variables. \n",
    "\n",
    "The function <b>NaiveBayes()</b> does the modeling from the given data.\n",
    "The function <b>NaivePredict()</b> is used for predicting probability."
   ]
  },
  {
   "cell_type": "code",
   "execution_count": 74,
   "metadata": {},
   "outputs": [],
   "source": [
    "'''\n",
    "USED IN NAIVE BAYES\n",
    "'''\n",
    "def NaivePredict(NaiveModel,test,train,target,catcolumns):\n",
    "    size = train.shape[0]  \n",
    "    class_count = {}\n",
    "    unique_classes = np.unique(train.values[:,target])\n",
    "    for classes in unique_classes:\n",
    "        class_count[classes] = 0 \n",
    "        \n",
    "    for i in train.values[:,target]:\n",
    "        class_count[i]+=1/size\n",
    "    result= 1\n",
    "    column_pos=1\n",
    "    largest=-1\n",
    "    class_lab = None\n",
    "    predicted_y = []\n",
    "    #print(train)\n",
    "    #print(test)\n",
    "    for row in test.values:\n",
    "        #print(row)\n",
    "        for key in NaiveModel:\n",
    "            while column_pos < row.shape[0]:\n",
    "                if column_pos!=target:\n",
    "                    if column_pos in catcolumns:\n",
    "                        result *= NaiveModel[key][column_pos][row[column_pos]] \n",
    "                    else:\n",
    "                        #print(key,column_pos,NaiveModel[key][column_pos])\n",
    "                        mean = NaiveModel[key][column_pos]['mean']\n",
    "                        var = NaiveModel[key][column_pos]['var']\n",
    "                        distribution = 1/(np.sqrt(2*np.pi*var)) * np.exp((-(row[column_pos]-mean)**2)/(2*var))\n",
    "                        result*=distribution\n",
    "                else:\n",
    "                    column_pos+=1 \n",
    "                    continue\n",
    "                column_pos+=1    \n",
    "            \n",
    "            result*=class_count[key]\n",
    "            column_pos = 1\n",
    "            if result > largest:\n",
    "                largest = result\n",
    "                class_lab = key\n",
    "            result=1    \n",
    "        \n",
    "        predicted_y.append(class_lab)\n",
    "        largest=-1\n",
    "        class_lab=None\n",
    "    #print(predicted_y)\n",
    "    a,p,r,f = BinaryMeasure(predicted_y,test,target)\n",
    "    return a,p,r,f\n",
    "                        "
   ]
  },
  {
   "cell_type": "code",
   "execution_count": 112,
   "metadata": {},
   "outputs": [],
   "source": [
    "'''\n",
    "USED IN NAIVE BAYES\n",
    "'''\n",
    "\n",
    "def NaiveBayes(train,target,catcolumns):\n",
    "    #get a count of classes in target variable\n",
    "    unique_classes = np.unique(train.values[:,target])\n",
    "    size = train.shape[0]\n",
    "    class_dict = {}\n",
    "  \n",
    "    for classes in unique_classes:\n",
    "        class_dict[classes] = {}    #For probability\n",
    "        \n",
    "    column_pos = 1  \n",
    "    noofcolumns = train.values.shape[1] \n",
    "    while column_pos < noofcolumns:\n",
    "        attribute = train.values[:,column_pos]\n",
    "        for key in class_dict:\n",
    "            class_dict[key][column_pos] = {}\n",
    "            filtered_mat = train.values[(train.values[:,target] == key),:]\n",
    "            key_size = filtered_mat.shape[0]\n",
    "            if column_pos in catcolumns:\n",
    "                unique_category = np.unique(attribute)\n",
    "                for category in unique_category:\n",
    "                    class_dict[key][column_pos][category] = 0\n",
    "                    filtered_mat = (train.values[:,column_pos] == category) & (train.values[:,target] == key)\n",
    "                    filtered_mat = train.values[filtered_mat,:]\n",
    "                    class_dict[key][column_pos][category] = filtered_mat.shape[0]/key_size\n",
    "            elif column_pos!=target:\n",
    "                mean = filtered_mat[:,column_pos].mean(axis=0)\n",
    "                var = filtered_mat[:,column_pos].var(axis=0)\n",
    "                class_dict[key][column_pos]['mean'] = mean\n",
    "                class_dict[key][column_pos]['var'] = var\n",
    "        column_pos+=1\n",
    "    return class_dict    \n",
    "    #pprint.pprint(class_dict)        \n",
    "                    \n",
    "                "
   ]
  },
  {
   "cell_type": "markdown",
   "metadata": {},
   "source": [
    "## III. Linear Regression\n",
    "\n",
    "Linear regression is one of the most widely used and easy to implement regression techniques. A regression technique such as linear regression is not used to classify but directly predict a value for given features.\n",
    "\n"
   ]
  },
  {
   "cell_type": "code",
   "execution_count": 76,
   "metadata": {},
   "outputs": [],
   "source": [
    "'''\n",
    "USED IN LINEAR REGRESSION\n",
    "'''\n",
    "def r2_score(Y, Y_pred):\n",
    "    mean_y = np.mean(Y)\n",
    "    tot = sum((Y - mean_y) ** 2)\n",
    "    res = sum((Y - Y_pred) ** 2)\n",
    "    r2 = 1 - (res / tot)\n",
    "    return r2"
   ]
  },
  {
   "cell_type": "markdown",
   "metadata": {},
   "source": [
    "### Mean Squared Error\n",
    "\n",
    "$Cost(B) = \\dfrac{1}{2m}\\sum{(\\beta^TX - Y)^2}$"
   ]
  },
  {
   "cell_type": "code",
   "execution_count": 77,
   "metadata": {},
   "outputs": [],
   "source": [
    "'''\n",
    "USED IN LINEAR REGRESSION\n",
    "'''\n",
    "def MeanSquaredError(X,B,Y):\n",
    "    m = X.shape[0]\n",
    "    cost = (1/(2*m))*np.sum((X.dot(B) - Y)**2)\n",
    "    return(cost)"
   ]
  },
  {
   "cell_type": "markdown",
   "metadata": {},
   "source": [
    "### Mean Absolute Error\n",
    "\n",
    "$Cost(B) = \\dfrac{1}{m}\\sum{|\\beta^TX - Y|}$"
   ]
  },
  {
   "cell_type": "code",
   "execution_count": 78,
   "metadata": {},
   "outputs": [],
   "source": [
    "'''\n",
    "USED IN LINEAR REGRESSION\n",
    "'''\n",
    "def MeanAbsoluteError(X,B,Y):\n",
    "    m = X.shape[0]\n",
    "    cost = (1/m)*np.sum(np.abs(X.dot(B) - Y))\n",
    "    return(cost)"
   ]
  },
  {
   "cell_type": "markdown",
   "metadata": {},
   "source": [
    "### Mean Absolute Percentage Error\n",
    "\n",
    "$Cost(B) = \\dfrac{1}{m}\\sum{\\dfrac{|\\beta^TX - Y|}{|\\beta^TX|}}\\ast 100$"
   ]
  },
  {
   "cell_type": "code",
   "execution_count": 79,
   "metadata": {},
   "outputs": [],
   "source": [
    "'''\n",
    "USED IN LINEAR REGRESSION\n",
    "'''\n",
    "def MeanAbsolutePercentage(X,B,Y):\n",
    "    m = X.shape[0]\n",
    "    cost = (1/m)*np.sum(np.abs((X.dot(B) - Y))/(X.dot(B)))*100\n",
    "    return(cost)"
   ]
  },
  {
   "cell_type": "code",
   "execution_count": 80,
   "metadata": {},
   "outputs": [],
   "source": [
    "'''\n",
    "USED IN LINEAR REGRESSION\n",
    "'''\n",
    "def gradient_descent(X,B,Y,alpha):\n",
    "    m = len(Y)\n",
    "    cost = 0\n",
    "    for i in range(10000):\n",
    "        #print(B)\n",
    "        B -= alpha*(1/m)*(X.T.dot((X.dot(B) - Y)))\n",
    "        cost = cost_function(X,B,Y)\n",
    "        #print(cost)\n",
    "    return B,cost"
   ]
  },
  {
   "cell_type": "code",
   "execution_count": 81,
   "metadata": {},
   "outputs": [],
   "source": [
    "'''\n",
    "USED IN LINEAR REGRESSION\n",
    "'''\n",
    "def predictLinear(test,target,B):\n",
    "    X = []\n",
    "    x0 = np.ones(test.shape[0])\n",
    "    columns = list(test.columns)\n",
    "    columns.pop(0)\n",
    "    X.append(list(x0))\n",
    "    for col in columns:\n",
    "        if col!= target:\n",
    "            #print(col)\n",
    "            normalized_col = list(((test[col].values) - np.mean(test[col].values))/np.std(test[col].values))\n",
    "            X.append(normalized_col)\n",
    "    \n",
    "    X = np.array(X).T\n",
    "    Y = np.array(test[target].values)\n",
    "    predicted_y = X.dot(B)\n",
    "    r2score = r2_score(Y,predicted_y)\n",
    "    return X,predicted_y,r2score"
   ]
  },
  {
   "cell_type": "code",
   "execution_count": 121,
   "metadata": {},
   "outputs": [],
   "source": [
    "'''\n",
    "USED IN LINEAR REGRESSION\n",
    "'''\n",
    "def LinearRegressionFit(test,train,target):\n",
    "    #get X matrx which consists all features\n",
    "    X = []\n",
    "    x0 = np.ones(train.shape[0])\n",
    "    columns = list(train.columns)\n",
    "    columns.pop(0)\n",
    "    X.append(list(x0))\n",
    "    for col in columns:\n",
    "        if col!= target:\n",
    "            #print(col)\n",
    "            normalized_col = list(((train[col].values) - np.mean(train[col].values))/np.std(train[col].values))\n",
    "            X.append(normalized_col)\n",
    "    \n",
    "    X = np.array(X).T\n",
    "    #X = np.array(X)\n",
    "    B = np.array(np.zeros(len(columns)))\n",
    "    Y = np.array(train[target].values)\n",
    "    alpha = 0.01\n",
    "    #B = Y.T.dot(np.linalg.inv(X.T.dot(X)).dot(X.T))\n",
    "    B,cost = gradient_descent(X,B,Y,alpha)\n",
    "    return(B)"
   ]
  },
  {
   "cell_type": "code",
   "execution_count": 83,
   "metadata": {},
   "outputs": [],
   "source": [
    "def BinaryMeasure(predicted_y,test,target):\n",
    "    j = 0\n",
    "    TN=0\n",
    "    TP=0\n",
    "    FN=0\n",
    "    FP=0\n",
    "    for i in predicted_y:\n",
    "        if i==0 and i == (test.values)[j][target]:\n",
    "            TN+=1\n",
    "        elif i==0 and i!= (test.values)[j][target]:\n",
    "            FN+=1\n",
    "        elif i==1 and i == (test.values)[j][target]:\n",
    "            TP+=1\n",
    "        elif i==1 and i!= (test.values)[j][target]:\n",
    "            FP+=1\n",
    "        j+=1\n",
    "        \n",
    "    accuracy =  (TP+TN)/(TP+TN+FP+FN)\n",
    "    precision = (TP)/(TP+FP)\n",
    "    recall = (TP)/(TP+FN)\n",
    "    fscore = 2/((1/precision)+(1/recall))\n",
    "    return accuracy,precision,recall,fscore"
   ]
  },
  {
   "cell_type": "code",
   "execution_count": 84,
   "metadata": {},
   "outputs": [],
   "source": [
    "def MultipleMeasure(predicted_y,test,train,target):\n",
    "    j=0\n",
    "    unique_classes = np.unique(train.values[:,target])\n",
    "    accuracy = 0\n",
    "    precision = 0\n",
    "    recall = 0\n",
    "    fscore = 0\n",
    "\n",
    "    class_dict = {}\n",
    "    for lclass in unique_classes:\n",
    "        class_dict[lclass] = 0\n",
    "   \n",
    "    for i in (test.values)[:,target]:\n",
    "        class_dict[i]+=1\n",
    "        j+=1\n",
    "    j=0\n",
    "    \n",
    "    size = test.shape[0]\n",
    "    \n",
    "    for lclass in unique_classes:\n",
    "        TN=0\n",
    "        TP=0\n",
    "        FN=0\n",
    "        FP=0\n",
    "        freq = class_dict[lclass]\n",
    "        for i in predicted_y:\n",
    "            if lclass == (test.values)[j][target] and i==lclass: \n",
    "                TP+=1\n",
    "            elif lclass!= (test.values)[j][target] and i==lclass:\n",
    "                FP+=1\n",
    "            elif lclass!= (test.values)[j][target] and i!=lclass:\n",
    "                TN+=1\n",
    "            elif lclass == (test.values)[j][target] and i!=lclass:\n",
    "                FN+=1\n",
    "            j+=1\n",
    "        j=0    \n",
    "\n",
    "        accuracy +=  (freq/size)*((TP+TN)/(TP+TN+FP+FN))\n",
    "        precision += (freq/size)*((TP)/(TP+FP))\n",
    "        recall += (freq/size)*((TP)/(TP+FN))\n",
    "        fscore += (freq/size)*(2/((1/precision)+(1/recall)))\n",
    "    return accuracy,precision,recall,fscore"
   ]
  },
  {
   "cell_type": "markdown",
   "metadata": {},
   "source": [
    "## Question - 1\n",
    "### A. Datasets -- Robot1 and Robot2"
   ]
  },
  {
   "cell_type": "markdown",
   "metadata": {},
   "source": [
    "### 1. Implement a KNN classifier for each of the datasets. Report precision, recall, f1 score and accuracy. Compare your result with in-built(scikit-learn) KNN function to check correctness of your algorithm."
   ]
  },
  {
   "cell_type": "code",
   "execution_count": 85,
   "metadata": {},
   "outputs": [
    {
     "name": "stdout",
     "output_type": "stream",
     "text": [
      "Robot1\n",
      "===================================\n",
      "Accuracy =  0.84\n",
      "Precision =  1.0\n",
      "Recall =  0.8095238095238095\n",
      "fscore =  0.8947368421052632\n",
      "\n",
      "\n",
      "Robot2\n",
      "===================================\n",
      "Accuracy =  0.92\n",
      "Precision =  1.0\n",
      "Recall =  0.8181818181818182\n",
      "fscore =  0.8999999999999999\n",
      "\n",
      "\n",
      "Iris\n",
      "===================================\n",
      "Accuracy =  0.9780521262002742\n",
      "Precision =  0.9682539682539681\n",
      "Recall =  0.9629629629629629\n",
      "fscore =  0.6615986914139392\n"
     ]
    }
   ],
   "source": [
    "#Robot1\n",
    "location = 'RobotDataset/Robot1'\n",
    "test,train = get_test_train(location)\n",
    "test = pd.DataFrame(np.delete(test.values,7,1))\n",
    "train = pd.DataFrame(np.delete(train.values,7,1))\n",
    "K = 7\n",
    "target = 0\n",
    "predicted_y = KNN(test,train,K,'euclid',target)\n",
    "accuracy,precision,recall,fscore = BinaryMeasure(predicted_y,test,target)\n",
    "print(\"Robot1\")\n",
    "print(\"===================================\")\n",
    "print(\"Accuracy = \",accuracy)\n",
    "print(\"Precision = \",precision)\n",
    "print(\"Recall = \",recall)\n",
    "print(\"fscore = \",fscore)\n",
    "\n",
    "print(\"\\n\")\n",
    "\n",
    "#Robot2\n",
    "location = 'RobotDataset/Robot2'\n",
    "test,train = get_test_train(location)\n",
    "test = pd.DataFrame(np.delete(test.values,7,1))\n",
    "train = pd.DataFrame(np.delete(train.values,7,1))\n",
    "K = 7\n",
    "target = 0\n",
    "predicted_y = KNN(test,train,K,'euclid',target)\n",
    "accuracy,precision,recall,fscore = BinaryMeasure(predicted_y,test,target)\n",
    "print(\"Robot2\")\n",
    "print(\"===================================\")\n",
    "print(\"Accuracy = \",accuracy)\n",
    "print(\"Precision = \",precision)\n",
    "print(\"Recall = \",recall)\n",
    "print(\"fscore = \",fscore)\n",
    "\n",
    "print(\"\\n\")\n",
    "\n",
    "#Iris\n",
    "location = 'Iris/Iris.csv'\n",
    "test,train = get_test_train(location)\n",
    "K = 7\n",
    "target = 4\n",
    "predicted_y = KNN(test,train,K,'euclid',target)\n",
    "accuracy,precision,recall,fscore = MultipleMeasure(predicted_y,test,train,target)\n",
    "print(\"Iris\")\n",
    "print(\"===================================\")\n",
    "print(\"Accuracy = \",accuracy)\n",
    "print(\"Precision = \",precision)\n",
    "print(\"Recall = \",recall)\n",
    "print(\"fscore = \",fscore)\n"
   ]
  },
  {
   "cell_type": "markdown",
   "metadata": {},
   "source": [
    "### 2. Use different distance measures as applicable. Plot graph to report accuracy with change in value of K. Also suggest possible reason for better performance."
   ]
  },
  {
   "cell_type": "code",
   "execution_count": 90,
   "metadata": {},
   "outputs": [],
   "source": [
    "def gen_KNN_plot(test,train,target,binary):\n",
    "    distanceMeasures = ['euclid','man'] \n",
    "    accuracy_array1 = []\n",
    "    accuracy_array2 = []\n",
    "    for dist_measure in distanceMeasures:\n",
    "        K = 1\n",
    "        K_array = []\n",
    "        accuracy_array2 = []\n",
    "        while K<= math.sqrt(len(train)):\n",
    "            predicted_y = KNN(test,train,K,dist_measure,target)\n",
    "            if binary == 1:\n",
    "                accuracy,precision,recall,fscore = BinaryMeasure(predicted_y,test,target)\n",
    "            elif binary == 0:\n",
    "                accuracy,precision,recall,fscore = MultipleMeasure(predicted_y,test,train,target)\n",
    "            K_array.append(K)\n",
    "            accuracy_array2.append(accuracy)\n",
    "            K+=2\n",
    "        if dist_measure == 'euclid':    \n",
    "            accuracy_array1 = accuracy_array2.copy()    \n",
    "    plt.plot(K_array,accuracy_array1,c='b',label = 'euclid')\n",
    "    plt.plot(K_array,accuracy_array2,c='r',label = 'manhattan')\n",
    "    plt.legend()\n",
    "    plt.show()\n"
   ]
  },
  {
   "cell_type": "code",
   "execution_count": 91,
   "metadata": {},
   "outputs": [
    {
     "data": {
      "image/png": "[encoded data removed]",
      "text/plain": [
       "<Figure size 432x288 with 1 Axes>"
      ]
     },
     "metadata": {
      "needs_background": "light"
     },
     "output_type": "display_data"
    },
    {
     "data": {
      "image/png": "[encoded data removed]",
      "text/plain": [
       "<Figure size 432x288 with 1 Axes>"
      ]
     },
     "metadata": {
      "needs_background": "light"
     },
     "output_type": "display_data"
    },
    {
     "data": {
      "image/png": "[encoded data removed]",
      "text/plain": [
       "<Figure size 432x288 with 1 Axes>"
      ]
     },
     "metadata": {
      "needs_background": "light"
     },
     "output_type": "display_data"
    }
   ],
   "source": [
    "location = 'RobotDataset/Robot1'\n",
    "test,train = get_test_train(location)\n",
    "test = pd.DataFrame(np.delete(test.values,7,1))\n",
    "train = pd.DataFrame(np.delete(train.values,7,1))\n",
    "target=0\n",
    "binary = 1\n",
    "gen_KNN_plot(test,train,target,binary)\n",
    "\n",
    "location = 'RobotDataset/Robot2'\n",
    "test,train = get_test_train(location)\n",
    "test = pd.DataFrame(np.delete(test.values,7,1))\n",
    "train = pd.DataFrame(np.delete(train.values,7,1))\n",
    "target=0\n",
    "binary=1\n",
    "gen_KNN_plot(test,train,target,binary)\n",
    "\n",
    "location = 'Iris/Iris.csv'\n",
    "test,train = get_test_train(location)\n",
    "target = 4\n",
    "binary=0\n",
    "gen_KNN_plot(test,train,target,binary)"
   ]
  },
  {
   "cell_type": "markdown",
   "metadata": {},
   "source": [
    "## Question - 2\n",
    "### A bank is implementing a system to identify potential customers who have higher probablity of availing loans to increase its profit. Implement Naive Bayes classifier on this dataset to help bank achieve its goal. Report your observations and accuracy of the model."
   ]
  },
  {
   "cell_type": "code",
   "execution_count": 113,
   "metadata": {},
   "outputs": [
    {
     "name": "stdout",
     "output_type": "stream",
     "text": [
      "Accuracy :  0.9155555555555556\n"
     ]
    }
   ],
   "source": [
    "location = 'LoanDataset/data.csv'\n",
    "test,train = get_test_train(location)\n",
    "catcolumns = [7,10,11,12,13]\n",
    "target = 9\n",
    "NaiveModel = NaiveBayes(train,target,catcolumns)\n",
    "accuracy,precision,recall,fscore = NaivePredict(NaiveModel,test,train,target,catcolumns)\n",
    "print(\"Accuracy : \",accuracy)"
   ]
  },
  {
   "cell_type": "markdown",
   "metadata": {},
   "source": [
    "## Question - 3\n",
    "### 3.1 Implement a model using linear regression to predict the probablity of getting the admit."
   ]
  },
  {
   "cell_type": "code",
   "execution_count": 122,
   "metadata": {},
   "outputs": [
    {
     "name": "stdout",
     "output_type": "stream",
     "text": [
      "R-2 Score :  0.7679618853372087\n"
     ]
    }
   ],
   "source": [
    "#location = '~/Documents/SMAI/Assignment2/AdmissionDataset/data.csv'\n",
    "location = 'AdmissionDataset/data.csv'\n",
    "test,train = get_test_train_with_header(location)\n",
    "target = 'Chance of Admit'\n",
    "slopeValues = LinearRegressionFit(test,train,target)\n",
    "#print(slopeValues)\n",
    "X,predicted_y,r2score = predictLinear(test,target,slopeValues)\n",
    "print(\"R-2 Score : \",r2score)"
   ]
  },
  {
   "cell_type": "markdown",
   "metadata": {},
   "source": [
    "### 3.2 Compare the performance of Mean square error loss function vs Mean Absolute error function vs Mean absolute percentage error function and explain the reasons for the observed behaviour."
   ]
  },
  {
   "cell_type": "code",
   "execution_count": 123,
   "metadata": {},
   "outputs": [
    {
     "name": "stdout",
     "output_type": "stream",
     "text": [
      "Mean Squared Error:  0.002333180483619437\n",
      "Mean Absolute Error:  0.049875274647581444\n",
      "Mean Absolute Percentage Error:  7.366115153718542 %\n"
     ]
    }
   ],
   "source": [
    "location = 'AdmissionDataset/data.csv'\n",
    "test,train = get_test_train_with_header(location)\n",
    "target = 'Chance of Admit'\n",
    "slopeValues = LinearRegressionFit(test,train,target)\n",
    "#print(slopeValues)\n",
    "X,predicted_y,r2score = predictLinear(test,target,slopeValues)\n",
    "#Mean Square Error Loss Function\n",
    "print(\"Mean Squared Error: \",MeanSquaredError(X,slopeValues,np.array(test[target].values)))\n",
    "#Mean Absolute Error\n",
    "print(\"Mean Absolute Error: \",MeanAbsoluteError(X,slopeValues,np.array(test[target].values)))\n",
    "#Mean Absolute percentage\n",
    "print(\"Mean Absolute Percentage Error: \",MeanAbsolutePercentage(X,slopeValues,np.array(test[target].values)),\"%\")"
   ]
  },
  {
   "cell_type": "markdown",
   "metadata": {},
   "source": [
    "### 3.3 Analyse and report the behaviour of the coefficients(for example: sign of coefficients, value of coefficients etc.) and support it with appropriate plots as necessary"
   ]
  },
  {
   "cell_type": "code",
   "execution_count": 96,
   "metadata": {
    "scrolled": true
   },
   "outputs": [
    {
     "name": "stdout",
     "output_type": "stream",
     "text": [
      "Coefficients: \n",
      "\n",
      "[ 0.72188889  0.02355433  0.01557727  0.00984114 -0.00191175  0.01416885\n",
      "  0.07306435  0.01179078]\n"
     ]
    }
   ],
   "source": [
    "location = 'AdmissionDataset/data.csv'\n",
    "test,train = get_test_train_with_header(location)\n",
    "target = 'Chance of Admit'\n",
    "slopeValues = LinearRegressionFit(test,train,target)\n",
    "print(\"Coefficients: \\n\")\n",
    "print(slopeValues)"
   ]
  },
  {
   "cell_type": "markdown",
   "metadata": {},
   "source": [
    "A coefficient 'm' is known as the slope of a line or a plane or any other geometeric shape.\n",
    "It tells how much an dependent variable 'rises' with respect to 'run' of an independent variable .\n",
    "\n",
    "<b>Example:</b> Consider an equation of the line <b>y = mx + c</b>. Here, y is the dependent variable and x is the indpendent variable and m is the slope. \n",
    "\n",
    "As seen above, the 'y' intercept here is 0.7218889 menaing the plane intersects at y-axis at point 0.7218889. The rest are the slopes for each features (thus forming a hyperplane).\n",
    "\n",
    "A positive coefficient means the slope is ascending (think linearly increasing line).\n",
    "\n",
    "A negative coefficient means the slope is descending (think linearly decreasing line)."
   ]
  },
  {
   "cell_type": "code",
   "execution_count": null,
   "metadata": {},
   "outputs": [],
   "source": []
  }
 ],
 "metadata": {
  "kernelspec": {
   "display_name": "Python 3",
   "language": "python",
   "name": "python3"
  },
  "language_info": {
   "codemirror_mode": {
    "name": "ipython",
    "version": 3
   },
   "file_extension": ".py",
   "mimetype": "text/x-python",
   "name": "python",
   "nbconvert_exporter": "python",
   "pygments_lexer": "ipython3",
   "version": "3.7.1"
  }
 },
 "nbformat": 4,
 "nbformat_minor": 2
}
