{
 "cells": [
  {
   "cell_type": "code",
   "execution_count": 87,
   "metadata": {},
   "outputs": [],
   "source": [
    "import matplotlib.pyplot as plt\n",
    "from scipy import ndimage, misc\n",
    "import numpy as np\n",
    "import pandas as pd"
   ]
  },
  {
   "cell_type": "code",
   "execution_count": 101,
   "metadata": {},
   "outputs": [],
   "source": [
    "originaldata = pd.read_csv('./Apparel/apparel-trainval.csv')\n",
    "traindata = np.array(originaldata)[:48000,1:]\n",
    "image = traindata[0]\n",
    "image = image.reshape((28,28))\n",
    "#image_resized = misc.imresize(image, (32, 32))\n",
    "#plt.imshow(image_resized)\n",
    "#print(image_resized.shape)"
   ]
  },
  {
   "cell_type": "code",
   "execution_count": 102,
   "metadata": {},
   "outputs": [
    {
     "name": "stdout",
     "output_type": "stream",
     "text": [
      "(28, 28)\n"
     ]
    }
   ],
   "source": [
    "print(image.shape)"
   ]
  },
  {
   "cell_type": "code",
   "execution_count": 146,
   "metadata": {},
   "outputs": [],
   "source": [
    "class CNN:\n",
    "    def __init__(self,convLayerNum,filterChoice):\n",
    "        self.convLayerNum = convLayerNum\n",
    "        self.filterChoice = filterChoice\n",
    "    \n",
    "    def getGaussian(self,numberOfFilters,shape=(5,5),sigma=1):\n",
    "        self.filterSize = shape[0]\n",
    "        gaussianList = []\n",
    "        for i in range(0,numberOfFilters):\n",
    "            #########\n",
    "            #python version of 'matlab - gaussian kernal generation'\n",
    "            m,n = [(ss-1.)/2. for ss in shape]\n",
    "            y,x = np.ogrid[-m:m+1,-n:n+1]\n",
    "            h = np.exp( -(x*x + y*y) / (2.*sigma*sigma) )\n",
    "            h[ h < np.finfo(h.dtype).eps*h.max() ] = 0\n",
    "            sumh = h.sum()\n",
    "            if sumh != 0:\n",
    "                h /= sumh\n",
    "            #########    \n",
    "            #print(\"sigma = \",sigma)\n",
    "            sigma = sigma - 0.05\n",
    "            gaussianList.append(h)\n",
    "        return gaussianList\n",
    "    \n",
    "    def convolution(self,imageInput,filters,stride):\n",
    "        rowstride = 0\n",
    "        colstride = 0\n",
    "        listOfConvl = []\n",
    "        convmat = []\n",
    "        #print(\"filterSize = \",len(filters))\n",
    "        for filt in filters:\n",
    "            rowstride=0\n",
    "            convmat = []\n",
    "            while rowstride+self.filterSize <= imageInput.shape[0]:\n",
    "                colstride = 0\n",
    "                while colstride+self.filterSize <= imageInput.shape[1]:\n",
    "                    mat = imageInput[rowstride:rowstride+self.filterSize,\\\n",
    "                                     colstride:colstride+self.filterSize]\n",
    "                    convmat.append(np.sum(np.multiply(mat,filt)))\n",
    "                    colstride+=stride\n",
    "                rowstride+=stride\n",
    "            #print(\"lenth of filtered mat = \",len(convmat))\n",
    "            convmat = np.array(convmat)\n",
    "            filteredmatshape = imageInput.shape[0]-np.array(filt).shape[0]+1\n",
    "            convmat = convmat.reshape((filteredmatshape,filteredmatshape))\n",
    "            #print(\"convmat shape\",convmat.shape)\n",
    "            listOfConvl.append(convmat)\n",
    "        return listOfConvl \n",
    "    \n",
    "    def maxpool(self,outputs,stride):\n",
    "        pass\n",
    "    \n",
    "    def feedforward(self,imageInput,numberOfFilters):\n",
    "        #strides is an array of strides at every convl layer \n",
    "        convStride = 1\n",
    "        poolStride = 2\n",
    "        for numFilt in numberOfFilters:\n",
    "            #Convolution\n",
    "            filters = self.getGaussian(numFilt)\n",
    "            outputs = self.convolution(imageInput,filters,convStride)\n",
    "            #print(outputs[0].shape)\n",
    "            #print(outputs[5].shape)\n",
    "            \n",
    "            #MaxPool\n",
    "            maxoutputs = self.maxpool(outputs,poolstride)\n",
    "        #FeedforwardNN"
   ]
  },
  {
   "cell_type": "code",
   "execution_count": null,
   "metadata": {},
   "outputs": [],
   "source": [
    "#inputs = image\n",
    "#iterations = 2\n",
    "#while i in range(0,iterations):\n",
    "#    filters = getGaussian(size,numberOfFilters)\n",
    "#    outputs = convolution(input,filters,stride)\n",
    "#    maxoutputs = maxpool(outputs)"
   ]
  },
  {
   "cell_type": "code",
   "execution_count": 147,
   "metadata": {},
   "outputs": [],
   "source": [
    "a = CNN(1,'gaussian')\n",
    "a.feedforward(image,[6])"
   ]
  },
  {
   "cell_type": "code",
   "execution_count": null,
   "metadata": {},
   "outputs": [],
   "source": [
    "ndimage.filters.gaussian_filter()"
   ]
  }
 ],
 "metadata": {
  "kernelspec": {
   "display_name": "Python 3",
   "language": "python",
   "name": "python3"
  },
  "language_info": {
   "codemirror_mode": {
    "name": "ipython",
    "version": 3
   },
   "file_extension": ".py",
   "mimetype": "text/x-python",
   "name": "python",
   "nbconvert_exporter": "python",
   "pygments_lexer": "ipython3",
   "version": "3.7.1"
  }
 },
 "nbformat": 4,
 "nbformat_minor": 2
}
