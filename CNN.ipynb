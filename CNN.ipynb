{
 "cells": [
  {
   "cell_type": "code",
   "execution_count": 87,
   "metadata": {},
   "outputs": [],
   "source": [
    "import matplotlib.pyplot as plt\n",
    "from scipy import ndimage, misc\n",
    "import numpy as np\n",
    "import pandas as pd"
   ]
  },
  {
   "cell_type": "code",
   "execution_count": 195,
   "metadata": {},
   "outputs": [],
   "source": [
    "originaldata = pd.read_csv('./Apparel/apparel-trainval.csv')\n",
    "traindata = np.array(originaldata)[:48000,1:]\n",
    "image = traindata[0]\n",
    "\n",
    "#image_resized = misc.imresize(image, (32, 32))\n",
    "#plt.imshow(image_resized)\n",
    "#print(image_resized.shape)"
   ]
  },
  {
   "cell_type": "code",
   "execution_count": 197,
   "metadata": {},
   "outputs": [
    {
     "name": "stdout",
     "output_type": "stream",
     "text": [
      "(1, 28, 28)\n"
     ]
    }
   ],
   "source": [
    "image = image.reshape((28,28,1))\n",
    "print(image.T.shape)"
   ]
  },
  {
   "cell_type": "code",
   "execution_count": 215,
   "metadata": {},
   "outputs": [],
   "source": [
    "class CNN:\n",
    "    def __init__(self,convLayerNum,filterChoice):\n",
    "        self.convLayerNum = convLayerNum\n",
    "        self.filterChoice = filterChoice\n",
    "    \n",
    "    def getGaussian(self,numberOfFilters,shape=(5,5),sigma=1):\n",
    "        self.filterSize = shape[0]\n",
    "        gaussianList = []\n",
    "        for i in range(0,numberOfFilters):\n",
    "            #########\n",
    "            #python version of 'matlab - gaussian kernal generation'\n",
    "            m,n = [(ss-1.)/2. for ss in shape]\n",
    "            y,x = np.ogrid[-m:m+1,-n:n+1]\n",
    "            h = np.exp( -(x*x + y*y) / (2.*sigma*sigma) )\n",
    "            h[ h < np.finfo(h.dtype).eps*h.max() ] = 0\n",
    "            sumh = h.sum()\n",
    "            if sumh != 0:\n",
    "                h /= sumh\n",
    "            #########    \n",
    "            #print(\"sigma = \",sigma)\n",
    "            sigma = sigma - 0.05\n",
    "            gaussianList.append(h)\n",
    "        return gaussianList\n",
    "    \n",
    "    def randomFilter(self,numberOfFilters,depth):\n",
    "        randomList = []\n",
    "        for i in range(0,numberOfFilters):\n",
    "            randomList.append(np.random.randn(5,5,depth))\n",
    "        return randomList\n",
    "    \n",
    "    def convolution(self,imageInput,filters,stride):\n",
    "        rowstride = 0\n",
    "        colstride = 0\n",
    "        listOfConvl = []\n",
    "        convmat = []\n",
    "        filterSize = 5\n",
    "        #print(\"filterSize = \",len(filters))\n",
    "        for filt in filters:\n",
    "            rowstride=0\n",
    "            convmat = []\n",
    "            while rowstride+filterSize <= imageInput.shape[0]:\n",
    "                colstride = 0\n",
    "                while colstride+filterSize <= imageInput.shape[1]:\n",
    "                    mat = imageInput[rowstride:rowstride+filterSize,\\\n",
    "                                     colstride:colstride+filterSize]\n",
    "                    convmat.append(np.sum(np.multiply(mat,filt)))\n",
    "                    colstride+=stride\n",
    "                rowstride+=stride\n",
    "            #print(\"lenth of filtered mat = \",len(convmat))\n",
    "            convmat = np.array(convmat)\n",
    "            filteredmatshape = imageInput.shape[0]-np.array(filt).shape[0]+1\n",
    "            convmat = convmat.reshape((filteredmatshape,filteredmatshape))\n",
    "            #print(\"convmat shape\",convmat.shape)\n",
    "            listOfConvl.append(convmat)\n",
    "        return listOfConvl \n",
    "    \n",
    "    def maxpool(self,outputs,stride):\n",
    "        rowstride = 0\n",
    "        colstride = 0\n",
    "        listOfConvl = []\n",
    "        convmat = []\n",
    "        poolSize = 2\n",
    "        #print(\"filterSize = \",len(filters))\n",
    "        for output in outputs:\n",
    "            rowstride=0\n",
    "            convmat = []\n",
    "            while rowstride+poolSize <= output.shape[0]:\n",
    "                colstride = 0\n",
    "                while colstride+poolSize <= output.shape[1]:\n",
    "                    mat = output[rowstride:rowstride+poolSize,\\\n",
    "                                     colstride:colstride+poolSize]\n",
    "                    convmat.append(np.max(mat))\n",
    "                    colstride+=stride\n",
    "                rowstride+=stride\n",
    "            #print(\"lenth of filtered mat = \",len(convmat))\n",
    "            convmat = np.array(convmat)\n",
    "            filteredmatshape = int(np.sqrt(convmat.shape[0]))\n",
    "            convmat = convmat.reshape((filteredmatshape,filteredmatshape))\n",
    "            listOfConvl.append(convmat)\n",
    "        return listOfConvl\n",
    "    \n",
    "    def feedforward(self,imageInput,numberOfFilters):\n",
    "        #strides is an array of strides at every convl layer \n",
    "        convStride = 1\n",
    "        poolStride = 2\n",
    "        print(\"Input Layer\",imageInput.shape)\n",
    "        for numFilt in numberOfFilters:\n",
    "            #Convolution\n",
    "            #filters = self.getGaussian(numFilt)\n",
    "            depth = imageInput.shape[2]\n",
    "            filters = self.randomFilter(numFilt,depth)\n",
    "            outputs = self.convolution(imageInput,filters,convStride)    \n",
    "            #MaxPool\n",
    "            maxoutputs = self.maxpool(outputs,poolStride)\n",
    "            imageInput = np.array(maxoutputs).T\n",
    "            print(\"Input Layer\",imageInput.shape)\n",
    "        #FeedforwardNN"
   ]
  },
  {
   "cell_type": "code",
   "execution_count": null,
   "metadata": {},
   "outputs": [],
   "source": [
    "#inputs = image\n",
    "#iterations = 2\n",
    "#while i in range(0,iterations):\n",
    "#    filters = getGaussian(size,numberOfFilters)\n",
    "#    outputs = convolution(input,filters,stride)\n",
    "#    maxoutputs = maxpool(outputs)"
   ]
  },
  {
   "cell_type": "code",
   "execution_count": 216,
   "metadata": {},
   "outputs": [
    {
     "name": "stdout",
     "output_type": "stream",
     "text": [
      "Input Layer (28, 28, 1)\n",
      "Input Layer (12, 12, 6)\n",
      "Input Layer (4, 4, 16)\n"
     ]
    }
   ],
   "source": [
    "a = CNN(1,'gaussian')\n",
    "a.feedforward(image,[6,16])"
   ]
  },
  {
   "cell_type": "code",
   "execution_count": null,
   "metadata": {},
   "outputs": [],
   "source": [
    "ndimage.filters.gaussian_filter()"
   ]
  }
 ],
 "metadata": {
  "kernelspec": {
   "display_name": "Python 3",
   "language": "python",
   "name": "python3"
  },
  "language_info": {
   "codemirror_mode": {
    "name": "ipython",
    "version": 3
   },
   "file_extension": ".py",
   "mimetype": "text/x-python",
   "name": "python",
   "nbconvert_exporter": "python",
   "pygments_lexer": "ipython3",
   "version": "3.7.1"
  }
 },
 "nbformat": 4,
 "nbformat_minor": 2
}
