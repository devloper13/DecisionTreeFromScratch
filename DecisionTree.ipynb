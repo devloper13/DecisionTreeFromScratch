{
 "cells": [
  {
   "cell_type": "code",
   "execution_count": 125,
   "metadata": {},
   "outputs": [],
   "source": [
    "import pandas as pd\n",
    "import numpy as np\n",
    "from numpy import log2 as log\n",
    "import math\n",
    "import pprint"
   ]
  },
  {
   "cell_type": "code",
   "execution_count": 126,
   "metadata": {},
   "outputs": [],
   "source": [
    "'''\n",
    "Preprocessing data.\n",
    "\n",
    "Load the csv file into pandas dataframe\n",
    "'''\n",
    "\n",
    "def GetData(target_attribute):\n",
    "    #~/Documents/SMAI/Assignment1/SamplePlayData.csv\n",
    "    #~/Documents/SMAI/Assignment1/decision_Tree/train.csv\n",
    "    data = pd.read_csv('~/Documents/SMAI/Assignment1/decision_Tree/train.csv')\n",
    "    dataframe = pd.DataFrame(data)\n",
    "    \n",
    "    num_of_rows = math.floor(len(dataframe[target_attribute]) * 0.8)\n",
    "    #dataframe = dataframe.sample(frac=1).reset_index(drop=True)\n",
    "    df = dataframe.copy()\n",
    "    dataframe = dataframe.head(num_of_rows)  #Train\n",
    "    test_data = df.tail(len(df[target_attribute]) - num_of_rows) #Test\n",
    "    actual_y = test_data['left'].values\n",
    "    test_data = test_data.drop(target_attribute, 1)\n",
    "    #train_data.sort() # sorts data\n",
    "    #test_data.sort()\n",
    "   \n",
    "    columns = list(dataframe.columns)\n",
    "    columns.remove(target_attribute)\n",
    "    return dataframe,test_data,actual_y,columns"
   ]
  },
  {
   "cell_type": "code",
   "execution_count": 127,
   "metadata": {},
   "outputs": [],
   "source": [
    "def MissClassFormula(prob):\n",
    "    return min(prob,1-prob)"
   ]
  },
  {
   "cell_type": "code",
   "execution_count": 128,
   "metadata": {},
   "outputs": [],
   "source": [
    "def MissClass(dataframe,target_attribute):\n",
    "    unique = list(dataframe[target_attribute].unique())\n",
    "    return (GiniFormula(len(dataframe[target_attribute][dataframe[target_attribute] == unique[0]])/len(dataframe[target_attribute])))"
   ]
  },
  {
   "cell_type": "code",
   "execution_count": 129,
   "metadata": {},
   "outputs": [],
   "source": [
    "'''\n",
    "Works like  Information Gain\n",
    "'''\n",
    "def MissClassAttr(dataframe,attribute,target_attribute,MR):\n",
    "    target_variables = list(dataframe[target_attribute].unique())\n",
    "    unique_values = dataframe[attribute].unique()\n",
    "    M=0\n",
    "    for attr in unique_values:\n",
    "        prob = (len(dataframe[attribute][dataframe[attribute] == attr][dataframe[target_attribute] == target_variables[0]]))/len(dataframe[attribute][dataframe[attribute]==attr])\n",
    "        M += (len(dataframe[attribute][dataframe[attribute] == attr])/len(dataframe[attribute]))*GiniFormula(prob)\n",
    "    return MR-M"
   ]
  },
  {
   "cell_type": "code",
   "execution_count": 130,
   "metadata": {},
   "outputs": [],
   "source": [
    "'''\n",
    "used by GiniAttr and Gini functions\n",
    "'''\n",
    "def GiniFormula(prob):\n",
    "    if prob == 0:\n",
    "        return 0\n",
    "    G = 2 * prob * (1-prob)\n",
    "    return G"
   ]
  },
  {
   "cell_type": "code",
   "execution_count": 131,
   "metadata": {},
   "outputs": [],
   "source": [
    "def Gini(dataframe,target_attribute):\n",
    "    unique = list(dataframe[target_attribute].unique())\n",
    "    return (GiniFormula(len(dataframe[target_attribute][dataframe[target_attribute] == unique[0]])/len(dataframe[target_attribute])))"
   ]
  },
  {
   "cell_type": "code",
   "execution_count": 132,
   "metadata": {},
   "outputs": [],
   "source": [
    "'''\n",
    "Works like  Information Gain\n",
    "'''\n",
    "def GiniAttr(dataframe,attribute,target_attribute,GI):\n",
    "    target_variables = list(dataframe[target_attribute].unique())\n",
    "    unique_values = dataframe[attribute].unique()\n",
    "    G=0\n",
    "    for attr in unique_values:\n",
    "        prob = (len(dataframe[attribute][dataframe[attribute] == attr][dataframe[target_attribute] == target_variables[0]]))/len(dataframe[attribute][dataframe[attribute]==attr])\n",
    "        G += (len(dataframe[attribute][dataframe[attribute] == attr])/len(dataframe[attribute]))*GiniFormula(prob)\n",
    "    return GI-G"
   ]
  },
  {
   "cell_type": "code",
   "execution_count": 133,
   "metadata": {},
   "outputs": [],
   "source": [
    "'''\n",
    "This function is common to Entropy and InformationGain \n",
    "'''\n",
    "def EntropyFormula(prob):\n",
    "    if prob == 0 or prob == 1:\n",
    "        return 0\n",
    "    E = prob * np.log2(prob) + (1-prob) * np.log2(1-prob)\n",
    "    E = -1 * E\n",
    "    return E"
   ]
  },
  {
   "cell_type": "code",
   "execution_count": 134,
   "metadata": {},
   "outputs": [],
   "source": [
    "def Entropy(dataframe,column):\n",
    "    unique_values = dataframe[column].unique()\n",
    "    E = 0\n",
    "    col_len = len(dataframe[column])\n",
    "    prob = (dataframe[column].value_counts()[unique_values[0]])/col_len\n",
    "    E = EntropyFormula(prob)\n",
    "    return E"
   ]
  },
  {
   "cell_type": "code",
   "execution_count": 135,
   "metadata": {},
   "outputs": [],
   "source": [
    "'''\n",
    "ETotal ->  measure of the attribute \n",
    "'''\n",
    "def InformationGain(dataframe,column,target_attribute,target_values,ET):\n",
    "    unique_values = dataframe[column].unique()\n",
    "    val = target_values[0]\n",
    "    E=0\n",
    "    Intr=0 #Intrinsic\n",
    "    ETotal=0\n",
    "    N = len(dataframe[target_attribute])\n",
    "    for value in unique_values:\n",
    "        NI = dataframe[column].value_counts()[value]\n",
    "        prob = (len(dataframe[column][dataframe[column] == value][dataframe[target_attribute] == val]))/NI\n",
    "        E=EntropyFormula(prob)\n",
    "        Intr+=E    \n",
    "        E=(NI/N)*E\n",
    "        ETotal+=E\n",
    "    return ET-ETotal,Intr    "
   ]
  },
  {
   "cell_type": "code",
   "execution_count": 136,
   "metadata": {},
   "outputs": [],
   "source": [
    "def discrete_IG(split1,attribute_length,split_size):\n",
    "    prob1 = split1/split_size\n",
    "    E = EntropyFormula(prob1)\n",
    "    I = split_size/attribute_length\n",
    "    WE = I * E #weighted entropy\n",
    "    return WE"
   ]
  },
  {
   "cell_type": "code",
   "execution_count": 137,
   "metadata": {},
   "outputs": [],
   "source": [
    "def discretize(dataframe,attribute,target_attribute,target_values,ET):\n",
    "    \n",
    "    df_u = np.unique(dataframe[attribute]).shape[0]\n",
    "    #print(\"[printing 1 ]\",df_u)\n",
    "    if df_u <= 1:\n",
    "        return (0,-2) \n",
    "    #print(\"[discrte] dataframe-->attribute\",attribute,dataframe)    \n",
    "    dataframe = dataframe.sort_values(by=[attribute])\n",
    "    df_attr_arr = dataframe[attribute].values\n",
    "    #print(\"[discrte] dataframe-->attribute\",attribute,dataframe)\n",
    "    listofIG = []\n",
    "    attribute_length = len(dataframe[attribute])\n",
    "    start_index = 0\n",
    "    WE_head,WE_tail,gain,split,high = 0,0,-5,-1,-3\n",
    "    #print(\"[discretize] dataframe[target_attribute].value_counts()-->\",dataframe[target_attribute].value_counts())\n",
    "    V1 = len(dataframe[target_attribute][dataframe[target_attribute] == target_values[0]])\n",
    "    V2 = attribute_length - V1\n",
    "    split1_V1,split1_V2=0,0\n",
    "    split2_V1,split2_V2=V1,V2\n",
    "    #print(\"[discretize] dataframe[attribute]-->\",dataframe[target_attribute])\n",
    "    df_array = dataframe[target_attribute].values\n",
    "    #print(\"[discrete] ET = \",ET)\n",
    "    #print(\"[discrete] V1 = \",V1,\" V2 = \",V2)\n",
    "    while start_index < (attribute_length-1):\n",
    "        if df_array[start_index] == target_values[0]:\n",
    "            split1_V1+=1\n",
    "            split2_V1-=1\n",
    "        else:\n",
    "            split1_V2+=1\n",
    "            split2_V2-=1\n",
    "        if df_attr_arr[start_index] != df_attr_arr[start_index+1]:\n",
    "            #print(\"[discrete] attr -->\",df_attr_arr[start_index])\n",
    "            tail_value = attribute_length - (start_index + 1)\n",
    "            WE_head = discrete_IG(split1_V1,attribute_length,start_index+1)\n",
    "            WE_tail = discrete_IG(split2_V1,attribute_length,tail_value)\n",
    "            gain = ET - (WE_head+WE_tail)\n",
    "            #print(gain)\n",
    "            listofIG.append(gain)\n",
    "            if gain > high:\n",
    "                high = gain\n",
    "                split = df_attr_arr[start_index] \n",
    "            \n",
    "        start_index+=1\n",
    "            \n",
    "    return high,split"
   ]
  },
  {
   "cell_type": "code",
   "execution_count": 138,
   "metadata": {},
   "outputs": [],
   "source": [
    "'''\n",
    "Calculates Gain Ratio and returns the best attribute\n",
    "DOUBT: What happens when Intrinsic value is 0?\n",
    "'''\n",
    "def WinnerEntropy(dataframe,target_attribute,target_values,ET,attributes,catcolumns=None,numcolumns=None):\n",
    "    GainRatio = []\n",
    "    splitArray=[]\n",
    "    split = -1\n",
    "    flag = 0\n",
    "    #print(\"[Winner Entropy] attributes->\",attributes)\n",
    "    #print(\"[WinnnerEntropy]\")\n",
    "    for attribute in attributes:\n",
    "        if numcolumns != None and attribute in numcolumns:\n",
    "            #print(\"[WinnerEntropy] Visited numeric column -- >\",attribute)\n",
    "            IG,split = discretize(dataframe,attribute,target_attribute,target_values,ET)\n",
    "            #print(\"[WinnerEntropy] Visited numeric column -- >\",attribute,\" Split -->\",split,\" IG-->\",IG)\n",
    "        else:  \n",
    "            split = -1\n",
    "            #print(\"[WinnerEntropy] Visited categoric column -- >\",attribute)\n",
    "            IG,Intr = InformationGain(dataframe,attribute,target_attribute,target_values,ET)\n",
    "            #print(\"[WinnerEntropy] Visited categorical column -- >\",attribute,\" Split -->\",split,\" IG-->\",IG)\n",
    "            #print(\"[WinnerEntropy] ET-->\",ET)\n",
    "        \n",
    "        GainRatio.append(IG) #divide by Intr for intrinsic\n",
    "        splitArray.append(split)\n",
    "    if len(set(GainRatio)) == 1 and (numcolumns is not None):   #Remove this or change logic later because only cat doesn't work \n",
    "        #print(\"HI\")\n",
    "        flag = 1\n",
    "    return attributes[np.argmax(GainRatio)],splitArray[np.argmax(GainRatio)],flag"
   ]
  },
  {
   "cell_type": "code",
   "execution_count": 139,
   "metadata": {},
   "outputs": [],
   "source": [
    "def WinnerGini(dataframe,attributes,target_attribute,GI):\n",
    "    gini = []\n",
    "    for attribute in attributes:\n",
    "        gini.append(GiniAttr(dataframe,attribute,target_attribute,GI))\n",
    "    return (attributes[np.argmax(gini)])    "
   ]
  },
  {
   "cell_type": "code",
   "execution_count": 140,
   "metadata": {},
   "outputs": [],
   "source": [
    "def WinnerMissClass(dataframe,attributes,target_attribute,MR):\n",
    "    miss = []\n",
    "    for attribute in attributes:\n",
    "        miss.append(MissClassAttr(dataframe,attribute,target_attribute,MR))\n",
    "    return (attributes[np.argmax(miss)])"
   ]
  },
  {
   "cell_type": "code",
   "execution_count": 141,
   "metadata": {},
   "outputs": [],
   "source": [
    "def BuildTree(dataframe,target_attribute,target_values,ET,columns,catcolumns=None,numcolumns=None,Tree=None):\n",
    "    #print(\"[BuildTree] df \",dataframe)\n",
    "    if len(columns) == 0:\n",
    "        prob=0\n",
    "        a = len(dataframe[target_attribute][dataframe[target_attribute] == target_values[0]])\n",
    "        b = len(dataframe[target_attribute][dataframe[target_attribute] == target_values[1]])\n",
    "        if a>=b:\n",
    "            return target_values[0]\n",
    "        else:\n",
    "            return target_values[1]\n",
    "            \n",
    "    /#if len(dataframe[target_attribute]) == 0:\n",
    "        #return -1\n",
    "    ET = Entropy(dataframe,target_attribute)\n",
    "    Node,split,flag = WinnerEntropy(dataframe,target_attribute,target_values,ET,columns,catcolumns,numcolumns) \n",
    "    #if type(Node) == int and Node == -1:\n",
    "        #return np.sum(dataframe[target_attribute]) >= dataframe.shape[0]\n",
    "    \n",
    "    if flag== 1:\n",
    "        prob=0\n",
    "        a = len(dataframe[target_attribute][dataframe[target_attribute] == target_values[0]])\n",
    "        b = len(dataframe[target_attribute][dataframe[target_attribute] == target_values[1]])\n",
    "        if a>=b:\n",
    "            return target_values[0]\n",
    "        else:\n",
    "            return target_values[1] \n",
    "            \n",
    "            \n",
    "    #print(\"[BuildTree] Node -->\",Node,\" Split-->\",split)\n",
    "    #print(\"[BuildTree]\",dataframe)\n",
    "    #print(\"[BuildTree] Unique attr --> \",len(dataframe[Node].unique()))\n",
    "    if Tree == None:\n",
    "        Tree = {}\n",
    "        Tree[Node] = {}\n",
    "    if split == -1:    \n",
    "        unique_values = list(dataframe[Node].unique())\n",
    "    else:\n",
    "        unique_values = []\n",
    "        unique_values.append(split)\n",
    "        unique_values.append(split+1)\n",
    "    for value in unique_values:\n",
    "        newcol = columns.copy()\n",
    "        if len(dataframe[target_attribute].unique())== 1:\n",
    "            return (list(dataframe[target_attribute].unique())[0])\n",
    "        else:\n",
    "            Tree[Node][value] = {}\n",
    "            #newcol.remove(Node)\n",
    "            if split == -1:\n",
    "                newcol.remove(Node)\n",
    "                Tree[Node][value]=BuildTree(dataframe[dataframe[Node] == value], \\\n",
    "                    target_attribute,target_values,ET,newcol,catcolumns,numcolumns)\n",
    "            else:\n",
    "                #print(\"[BuildTree] Node -->\",Node,\" Split-->\",split)\n",
    "                if value == unique_values[0]:\n",
    "                    #print(\"[BuildTree] Value->\",value)\n",
    "                    #dataframe = dataframe[dataframe[Node] <= split]\n",
    "                    Tree[Node][value] = BuildTree(dataframe[dataframe[Node] <= split],target_attribute, \\\n",
    "                                target_values,ET,newcol,catcolumns,numcolumns)\n",
    "                    #if a!=-1:Tree[Node][value]= a\n",
    "                else:\n",
    "                    #print(\"[BuildTree] Value->\",value)\n",
    "                    #dataframe = dataframe[dataframe[Node] > split]\n",
    "                    Tree[Node][value] = BuildTree(dataframe[dataframe[Node] > split], \\\n",
    "                                target_attribute,target_values,ET,newcol,catcolumns,numcolumns)\n",
    "                    #if a!=-1:Tree[Node][value]= a                \n",
    "    return Tree"
   ]
  },
  {
   "cell_type": "code",
   "execution_count": 142,
   "metadata": {},
   "outputs": [],
   "source": [
    "def predict(TreeModel,test_data,row,numcolumns):\n",
    "    while isinstance(TreeModel,dict):\n",
    "        attribute = next(iter(TreeModel))\n",
    "        #print(\"attribute-->\",attribute)\n",
    "        value = test_data[attribute].values[row]\n",
    "        #print(\"value -->\",value)\n",
    "        try:\n",
    "            if attribute not in numcolumns:\n",
    "                #print(TreeModel[attribute])\n",
    "                TreeModel = TreeModel[attribute][value]\n",
    "            else:\n",
    "                if value <= next(iter(TreeModel[attribute])):\n",
    "                    TreeModel = TreeModel[attribute][next(iter(TreeModel[attribute]))]\n",
    "                else:\n",
    "                    TreeModel = TreeModel[attribute][next(iter(TreeModel[attribute])) + 1]\n",
    "        except KeyError:\n",
    "            return 0\n",
    "    return TreeModel"
   ]
  },
  {
   "cell_type": "code",
   "execution_count": 143,
   "metadata": {},
   "outputs": [],
   "source": [
    "def predictY(TreeModel,test_data,numcolumns):\n",
    "    predicted_y = []\n",
    "    size = len(test_data['salary'])\n",
    "    #print(size)\n",
    "    i = 0\n",
    "    while i<= size-1:\n",
    "        #print(\"[predicted_y] i -->\",i)\n",
    "        y = predict(TreeModel,test_data,i,numcolumns)\n",
    "        #print(y)\n",
    "        predicted_y.append(y)\n",
    "        i+=1\n",
    "    return predicted_y "
   ]
  },
  {
   "cell_type": "code",
   "execution_count": 144,
   "metadata": {
    "scrolled": true
   },
   "outputs": [],
   "source": [
    "#Global initializations\n",
    "target_attribute = 'left'\n",
    "dataframe,test_data,actual_y,columns = GetData(target_attribute)\n",
    "catcolumns = ['sales','salary','promotion_last_5years','Work_accident']\n",
    "numcolumns = ['satisfaction_level','last_evaluation','number_project','average_montly_hours','time_spend_company']"
   ]
  },
  {
   "cell_type": "code",
   "execution_count": 145,
   "metadata": {},
   "outputs": [
    {
     "name": "stdout",
     "output_type": "stream",
     "text": [
      "{'Work_accident': {0: {'salary': {'low': {'sales': {'sales': {'promotion_last_5years': {0: 0, 1: 0}}, 'accounting': {'promotion_last_5years': {0: 0, 1: 0}}, 'technical': {'promotion_last_5years': {0: 0, 1: 0}}, 'management': {'promotion_last_5years': {0: 0}}, 'IT': {'promotion_last_5years': {0: 0, 1: 1}}, 'product_mng': {'promotion_last_5years': {0: 0}}, 'RandD': {'promotion_last_5years': {0: 0, 1: 0}}, 'marketing': {'promotion_last_5years': {0: 0, 1: 0}}, 'support': {'promotion_last_5years': {0: 0, 1: 0}}, 'hr': {'promotion_last_5years': {0: 0, 1: 0}}}}, 'medium': {'sales': {'sales': {'promotion_last_5years': {0: 0, 1: 0}}, 'technical': {'promotion_last_5years': {0: 0, 1: 0}}, 'marketing': {'promotion_last_5years': {0: 0, 1: 0}}, 'IT': {'promotion_last_5years': {0: 0, 1: 1}}, 'RandD': {'promotion_last_5years': {0: 0, 1: 0}}, 'hr': {'promotion_last_5years': {1: 0, 0: 0}}, 'product_mng': {'promotion_last_5years': {0: 0}}, 'support': {'promotion_last_5years': {0: 0, 1: 0}}, 'accounting': {'promotion_last_5years': {0: 0, 1: 0}}, 'management': {'promotion_last_5years': {0: 0, 1: 0}}}}, 'high': {'sales': {'accounting': {'promotion_last_5years': {0: 0, 1: 0}}, 'support': {'promotion_last_5years': {0: 0}}, 'technical': {'promotion_last_5years': {0: 0}}, 'sales': {'promotion_last_5years': {0: 0, 1: 0}}, 'IT': {'promotion_last_5years': {0: 0}}, 'management': {'promotion_last_5years': {0: 0, 1: 0}}, 'marketing': {'promotion_last_5years': {0: 0}}, 'hr': {'promotion_last_5years': {0: 0, 1: 0}}, 'RandD': {'promotion_last_5years': {0: 0}}, 'product_mng': {'promotion_last_5years': {0: 0}}}}}}, 1: {'salary': {'low': {'sales': {'IT': {'promotion_last_5years': {0: 0}}, 'sales': {'promotion_last_5years': {0: 0, 1: 1}}, 'marketing': {'promotion_last_5years': {0: 0, 1: 0}}, 'technical': {'promotion_last_5years': {0: 0, 1: 0}}, 'RandD': {'promotion_last_5years': {0: 0, 1: 0}}, 'support': {'promotion_last_5years': {0: 0}}, 'product_mng': {'promotion_last_5years': {0: 0}}, 'hr': {'promotion_last_5years': {0: 0}}, 'accounting': {'promotion_last_5years': {0: 0}}, 'management': {'promotion_last_5years': {0: 0, 1: 0}}}}, 'medium': {'sales': {'support': {'promotion_last_5years': {0: 0, 1: 0}}, 'IT': 0, 'technical': {'promotion_last_5years': {0: 0, 1: 0}}, 'sales': {'promotion_last_5years': {0: 0, 1: 0}}, 'hr': {'promotion_last_5years': {0: 0, 1: 0}}, 'management': {'promotion_last_5years': {0: 0, 1: 0}}, 'RandD': {'promotion_last_5years': {0: 0, 1: 0}}, 'accounting': {'promotion_last_5years': {0: 0}}, 'marketing': {'promotion_last_5years': {0: 0, 1: 0}}, 'product_mng': {'promotion_last_5years': {0: 0}}}}, 'high': 0}}}}\n"
     ]
    }
   ],
   "source": [
    "'''\n",
    "0. ENTROPY (Only categorical)\n",
    "target_values -> Yes/No\n",
    "'''\n",
    "ET = Entropy(dataframe,target_attribute)\n",
    "target_values = dataframe[target_attribute].unique()\n",
    "#print(\"hi\")\n",
    "#using catcolumns instead of columns for categorical columns \n",
    "TreeModel = BuildTree(dataframe,target_attribute,target_values,ET,catcolumns,None,None,None)\n",
    "print(TreeModel)\n",
    "#print(\"bye\")\n",
    "#RootNode = WinnerEntropy(dataframe,columns,target_attribute,target_values,ET)\n",
    "#print(RootNode)"
   ]
  },
  {
   "cell_type": "code",
   "execution_count": 147,
   "metadata": {
    "scrolled": true
   },
   "outputs": [
    {
     "name": "stdout",
     "output_type": "stream",
     "text": [
      "Hi\n",
      "{'satisfaction_level': {0.46: {'satisfaction_level': {0.11: 1, 1.11: {'number_project': {2: {'last_evaluation': {0.57: {'last_evaluation': {0.44: 0, 1.44: {'average_montly_hours': {161: {'satisfaction_level': {0.31: 0, 1.31: {'average_montly_hours': {125: 0, 126: {'salary': {'low': {'sales': {'accounting': 1, 'technical': 1, 'sales': {'average_montly_hours': {150: 1, 151: {'average_montly_hours': {151: {'satisfaction_level': {0.41: 1, 1.41: 0}}, 152: 1}}}}, 'product_mng': 1, 'management': 1, 'support': {'average_montly_hours': {132: {'satisfaction_level': {0.39: 0, 1.3900000000000001: 1}}, 133: 1}}, 'marketing': 1, 'IT': 1, 'hr': 1, 'RandD': 1}}, 'high': {'sales': {'support': 1, 'marketing': 1, 'sales': 1, 'technical': 1, 'RandD': 1, 'accounting': 1, 'hr': 1, 'IT': 0, 'product_mng': 1}}, 'medium': 1}}}}}}, 162: {'satisfaction_level': {0.41: 0, 1.41: {'average_montly_hours': {219: 0, 220: 1}}}}}}}}, 1.5699999999999998: {'last_evaluation': {0.77: 0, 1.77: {'last_evaluation': {0.78: 1, 1.78: {'satisfaction_level': {0.43: 0, 1.43: {'last_evaluation': {0.82: 0, 1.8199999999999998: 1}}}}}}}}}}, 3: {'number_project': {6: {'average_montly_hours': {287: {'sales': {'IT': {'satisfaction_level': {0.14: {'last_evaluation': {0.55: {'satisfaction_level': {0.12: 0, 1.12: 1}}, 1.55: 0}}, 1.1400000000000001: 0}}, 'marketing': 0, 'sales': {'time_spend_company': {5: {'last_evaluation': {0.53: 0, 1.53: {'satisfaction_level': {0.3: {'average_montly_hours': {231: 0, 232: {'satisfaction_level': {0.2: {'satisfaction_level': {0.13: 0, 1.13: {'time_spend_company': {3: {'last_evaluation': {0.57: 0, 1.5699999999999998: 1}}, 4: {'average_montly_hours': {275: {'last_evaluation': {0.55: {'satisfaction_level': {0.14: 0, 1.1400000000000001: 1}}, 1.55: 0}}, 276: 1}}}}}}, 1.2: 0}}}}, 1.3: {'last_evaluation': {0.54: 1, 1.54: {'average_montly_hours': {137: 0, 138: {'last_evaluation': {0.64: 0, 1.6400000000000001: {'average_montly_hours': {149: 1, 150: {'average_montly_hours': {169: 0, 170: {'average_montly_hours': {172: 1, 173: {'average_montly_hours': {192: 0, 193: {'satisfaction_level': {0.34: 0, 1.34: {'salary': {'low': {'last_evaluation': {0.68: 1, 1.6800000000000002: 0}}, 'medium': 1}}}}}}}}}}}}}}}}}}}}}}, 6: 0}}, 'technical': {'average_montly_hours': {237: {'average_montly_hours': {236: {'last_evaluation': {0.85: {'satisfaction_level': {0.14: {'average_montly_hours': {158: 1, 159: 0}}, 1.1400000000000001: {'average_montly_hours': {197: 0, 198: {'average_montly_hours': {199: 1, 200: {'last_evaluation': {0.46: {'satisfaction_level': {0.25: 1, 1.25: 0}}, 1.46: 0}}}}}}}}, 1.85: {'last_evaluation': {0.87: 1, 1.87: {'last_evaluation': {0.9: {'last_evaluation': {0.88: 0, 1.88: 1}}, 1.9: 0}}}}}}, 237: 1}}, 238: 0}}, 'management': {'satisfaction_level': {0.39: 0, 1.3900000000000001: {'satisfaction_level': {0.42: 1, 1.42: 0}}}}, 'accounting': {'average_montly_hours': {186: 0, 187: {'last_evaluation': {0.95: {'last_evaluation': {0.65: {'salary': {'high': 0, 'medium': {'last_evaluation': {0.54: 0, 1.54: {'satisfaction_level': {0.31: 1, 1.31: 0}}}}, 'low': {'satisfaction_level': {0.24: 0, 1.24: 1}}}}, 1.65: 0}}, 1.95: 1}}}}, 'RandD': {'last_evaluation': {0.99: {'last_evaluation': {0.87: {'satisfaction_level': {0.14: {'satisfaction_level': {0.13: 0, 1.13: 1}}, 1.1400000000000001: 0}}, 1.87: {'satisfaction_level': {0.29: 0, 1.29: {'number_project': {3: 0, 4: 1}}}}}}, 1.99: 1}}, 'support': {'number_project': {5: {'last_evaluation': {0.99: 0, 1.99: 1}}, 6: {'average_montly_hours': {219: {'salary': {'medium': 0, 'low': {'satisfaction_level': {0.2: {'satisfaction_level': {0.13: 1, 1.13: 0}}, 1.2: 1}}, 'high': {'satisfaction_level': {0.15: 1, 1.15: 0}}}}, 220: 0}}}}, 'product_mng': {'number_project': {5: 0, 6: {'satisfaction_level': {0.28: 0, 1.28: {'satisfaction_level': {0.31: 1, 1.31: {'satisfaction_level': {0.32: 0, 1.32: 1}}}}}}}}, 'hr': 0}}, 288: 1}}, 7: 1}}}}}}, 1.46: {'time_spend_company': {4: {'number_project': {5: {'average_montly_hours': {287: {'time_spend_company': {3: {'number_project': {2: {'average_montly_hours': {167: 0, 168: {'sales': {'sales': {'average_montly_hours': {168: 1, 169: {'last_evaluation': {0.47: {'satisfaction_level': {0.56: 0, 1.56: 1}}, 1.47: 0}}}}, 'RandD': {'last_evaluation': {0.9: 0, 1.9: 1}}, 'technical': {'average_montly_hours': {252: {'satisfaction_level': {0.48: 1, 1.48: 0}}, 253: {'average_montly_hours': {255: 1, 256: 0}}}}, 'product_mng': 0, 'IT': {'last_evaluation': {0.96: 0, 1.96: 1}}, 'support': {'last_evaluation': {0.79: 0, 1.79: {'last_evaluation': {0.86: {'satisfaction_level': {0.79: {'satisfaction_level': {0.65: 1, 1.65: 0}}, 1.79: 1}}, 1.8599999999999999: 0}}}}, 'accounting': 0, 'marketing': 0, 'hr': 0, 'management': 0}}}}, 3: {'sales': {'sales': {'satisfaction_level': {0.8: {'satisfaction_level': {0.77: {'last_evaluation': {0.73: 0, 1.73: {'satisfaction_level': {0.57: {'last_evaluation': {0.88: {'average_montly_hours': {163: 0, 164: {'average_montly_hours': {164: 1, 165: {'satisfaction_level': {0.55: {'satisfaction_level': {0.48: {'last_evaluation': {0.87: 0, 1.87: 1}}, 1.48: 0}}, 1.55: {'average_montly_hours': {236: 1, 237: 0}}}}}}}}, 1.88: 0}}, 1.5699999999999998: {'last_evaluation': {0.99: 0, 1.99: {'satisfaction_level': {0.71: 0, 1.71: {'satisfaction_level': {0.72: 1, 1.72: 0}}}}}}}}}}, 1.77: {'last_evaluation': {0.45: 1, 1.45: {'number_project': {3: {'last_evaluation': {0.63: 0, 1.63: {'last_evaluation': {0.81: {'salary': {'low': 1, 'medium': 1, 'high': 0}}, 1.81: 0}}}}, 4: 0}}}}}}, 1.8: 0}}, 'technical': {'average_montly_hours': {134: {'satisfaction_level': {0.51: {'satisfaction_level': {0.48: 0, 1.48: 1}}, 1.51: 0}}, 135: 0}}, 'management': {'average_montly_hours': {274: 0, 275: {'satisfaction_level': {0.89: 0, 1.8900000000000001: 1}}}}, 'IT': 0, 'RandD': 0, 'marketing': 0, 'accounting': {'satisfaction_level': {0.5: {'average_montly_hours': {138: 1, 139: 0}}, 1.5: 0}}, 'support': {'number_project': {3: {'last_evaluation': {0.78: 0, 1.78: {'last_evaluation': {0.79: {'satisfaction_level': {0.86: 0, 1.8599999999999999: 1}}, 1.79: {'average_montly_hours': {247: 0, 248: {'average_montly_hours': {250: 1, 251: 0}}}}}}}}, 4: 0}}, 'product_mng': 0, 'hr': {'last_evaluation': {0.92: 0, 1.92: {'number_project': {4: 0, 5: {'average_montly_hours': {163: 1, 164: 0}}}}}}}}}}, 4: {'sales': {'sales': {'last_evaluation': {0.53: {'satisfaction_level': {0.47: 1, 1.47: {'average_montly_hours': {259: {'satisfaction_level': {0.61: {'satisfaction_level': {0.6: 0, 1.6: {'last_evaluation': {0.42: 0, 1.42: 1}}}}, 1.6099999999999999: 0}}, 260: 1}}}}, 1.53: {'last_evaluation': {0.91: 0, 1.9100000000000001: {'last_evaluation': {0.92: {'satisfaction_level': {0.6: 0, 1.6: 1}}, 1.92: 0}}}}}}, 'product_mng': 0, 'technical': {'last_evaluation': {0.56: 0, 1.56: {'last_evaluation': {0.6: {'satisfaction_level': {0.61: {'average_montly_hours': {137: 0, 138: 1}}, 1.6099999999999999: 0}}, 1.6: {'salary': {'low': {'satisfaction_level': {0.72: 0, 1.72: {'average_montly_hours': {206: {'average_montly_hours': {197: {'satisfaction_level': {0.73: 1, 1.73: {'number_project': {3: {'satisfaction_level': {0.84: 1, 1.8399999999999999: 0}}, 4: 0}}}}, 198: 1}}, 207: 0}}}}, 'medium': 0, 'high': 0}}}}}}, 'support': {'satisfaction_level': {0.5: {'number_project': {4: 0, 5: 1}}, 1.5: {'Work_accident': {1: {'satisfaction_level': {0.81: 0, 1.81: {'satisfaction_level': {0.82: 1, 1.8199999999999998: 0}}}}, 0: 0}}}}, 'RandD': {'number_project': {2: {'satisfaction_level': {0.63: {'satisfaction_level': {0.53: 0, 1.53: 1}}, 1.63: 0}}, 3: 0}}, 'hr': {'last_evaluation': {0.83: 0, 1.83: {'last_evaluation': {0.88: {'satisfaction_level': {0.76: 1, 1.76: 0}}, 1.88: 0}}}}, 'marketing': {'number_project': {4: 0, 5: {'salary': {'medium': 0, 'high': 0, 'low': {'satisfaction_level': {0.62: 1, 1.62: 0}}}}}}, 'IT': 0, 'accounting': {'last_evaluation': {0.96: 0, 1.96: 1}}, 'management': 0}}}}, 288: 1}}, 6: {'sales': {'IT': {'average_montly_hours': {161: {'satisfaction_level': {0.66: 0, 1.6600000000000001: 1}}, 162: 0}}, 'accounting': 0, 'sales': {'last_evaluation': {0.89: 0, 1.8900000000000001: {'time_spend_company': {2: {'satisfaction_level': {0.73: 1, 1.73: 0}}, 3: 0}}}}, 'support': {'last_evaluation': {0.98: {'average_montly_hours': {134: {'average_montly_hours': {130: 0, 131: 1}}, 135: 0}}, 1.98: 1}}, 'hr': 0, 'technical': {'satisfaction_level': {0.7: {'number_project': {6: {'salary': {'medium': 0, 'low': {'last_evaluation': {0.84: 1, 1.8399999999999999: 0}}}}, 7: 1}}, 1.7: 0}}, 'marketing': {'satisfaction_level': {0.53: 1, 1.53: 0}}, 'product_mng': 0, 'management': {'satisfaction_level': {0.66: 1, 1.6600000000000001: {'satisfaction_level': {0.83: 0, 1.83: 1}}}}, 'RandD': 0}}}}, 5: {'last_evaluation': {0.8: {'sales': {'sales': 0, 'hr': {'average_montly_hours': {275: 0, 276: {'satisfaction_level': {0.53: 1, 1.53: 0}}}}, 'product_mng': 0, 'technical': {'salary': {'high': {'satisfaction_level': {0.8: 1, 1.8: 0}}, 'medium': {'average_montly_hours': {272: 0, 273: {'satisfaction_level': {0.57: 1, 1.5699999999999998: 0}}}}, 'low': 0}}, 'management': 0, 'accounting': {'satisfaction_level': {0.85: 0, 1.85: {'satisfaction_level': {0.89: 1, 1.8900000000000001: 0}}}}, 'IT': {'average_montly_hours': {166: {'last_evaluation': {0.73: {'average_montly_hours': {163: 0, 164: 1}}, 1.73: 1}}, 167: 0}}, 'RandD': {'last_evaluation': {0.74: {'number_project': {4: 0, 5: {'satisfaction_level': {0.64: 0, 1.6400000000000001: {'satisfaction_level': {0.68: 1, 1.6800000000000002: 0}}}}}}, 1.74: 1}}, 'marketing': {'last_evaluation': {0.68: 0, 1.6800000000000002: {'satisfaction_level': {0.56: 0, 1.56: 1}}}}, 'support': {'last_evaluation': {0.6: 0, 1.6: {'average_montly_hours': {156: 0, 157: {'satisfaction_level': {0.89: {'last_evaluation': {0.7: 1, 1.7: 0}}, 1.8900000000000001: 0}}}}}}}}, 1.8: {'average_montly_hours': {216: {'time_spend_company': {5: {'number_project': {3: {'average_montly_hours': {126: 0, 127: {'salary': {'low': {'sales': {'sales': 1, 'technical': 0, 'product_mng': 1, 'hr': 1, 'support': 1}}, 'medium': {'satisfaction_level': {0.81: 0, 1.81: 1}}}}}}, 4: 0}}, 6: {'last_evaluation': {0.99: {'number_project': {5: 0, 6: {'satisfaction_level': {0.54: 1, 1.54: 0}}}}, 1.99: 1}}}}, 217: {'satisfaction_level': {0.71: {'salary': {'low': {'number_project': {2: 1, 3: {'sales': {'technical': {'satisfaction_level': {0.48: 1, 1.48: 0}}, 'accounting': {'satisfaction_level': {0.55: 0, 1.55: {'satisfaction_level': {0.63: 1, 1.63: 0}}}}, 'sales': 0, 'management': 0, 'product_mng': 1}}}}, 'high': 0, 'medium': {'satisfaction_level': {0.65: 0, 1.65: {'satisfaction_level': {0.66: 1, 1.6600000000000001: 0}}}}}}, 1.71: {'number_project': {3: {'average_montly_hours': {286: 0, 287: 1}}, 4: {'time_spend_company': {6: {'number_project': {5: {'average_montly_hours': {238: {'satisfaction_level': {0.91: {'sales': {'product_mng': 1, 'marketing': 1, 'support': 1, 'technical': {'salary': {'low': {'last_evaluation': {0.85: 0, 1.85: {'average_montly_hours': {235: 1, 236: {'satisfaction_level': {0.81: 1, 1.81: 0}}}}}}, 'medium': 1, 'high': 1}}, 'hr': 1, 'accounting': 1, 'sales': {'last_evaluation': {0.87: {'number_project': {4: {'satisfaction_level': {0.78: 1, 1.78: 0}}, 5: 1}}, 1.87: 1}}, 'management': {'satisfaction_level': {0.88: 1, 1.88: 0}}, 'RandD': 1, 'IT': 1}}, 1.9100000000000001: {'last_evaluation': {0.87: 1, 1.87: 0}}}}, 239: 1}}, 6: 0}}, 7: 0}}}}}}}}}}}}}}\n",
      "Bye\n"
     ]
    }
   ],
   "source": [
    "'''\n",
    "ENTROPY with Continuous and Categorical\n",
    "'''\n",
    "ET = Entropy(dataframe,target_attribute)\n",
    "target_values = dataframe[target_attribute].unique()\n",
    "print(\"Hi\")\n",
    "TreeModel = BuildTree(dataframe,target_attribute,target_values,ET,columns,None,numcolumns,None)\n",
    "print(TreeModel)\n",
    "print(\"Bye\")"
   ]
  },
  {
   "cell_type": "code",
   "execution_count": 148,
   "metadata": {},
   "outputs": [
    {
     "name": "stdout",
     "output_type": "stream",
     "text": [
      "2248\n",
      "2248\n",
      "97.77580071174377\n"
     ]
    }
   ],
   "source": [
    "'''\n",
    "Predict using Tree Model\n",
    "'''\n",
    "\n",
    "predicted_y = predictY(TreeModel,test_data,numcolumns)\n",
    "print(len(predicted_y))\n",
    "print(len(actual_y))\n",
    "TP,TN,FP,FN = 0,0,0,0\n",
    "j=0\n",
    "for i in actual_y:\n",
    "    if i == 0 and i == predicted_y[j]:\n",
    "        TN+=1\n",
    "    if i == 0 and i!=predicted_y[j]:\n",
    "        FP+=1\n",
    "    if i == 1 and i == predicted_y[j]:\n",
    "        TP+=1\n",
    "    if i == 1 and i!=predicted_y[j]:\n",
    "        FN+=1\n",
    "    j+=1    \n",
    "\n",
    "Num = TP+TN\n",
    "Denom = Num+FP+FN\n",
    "print((Num/Denom)*100)"
   ]
  },
  {
   "cell_type": "code",
   "execution_count": 24,
   "metadata": {},
   "outputs": [
    {
     "name": "stdout",
     "output_type": "stream",
     "text": [
      "satisfaction_level\n"
     ]
    }
   ],
   "source": [
    "'''\n",
    "1. GINI\n",
    "'''\n",
    "GI = Gini(dataframe,target_attribute)\n",
    "RootNode = WinnerGini(dataframe,columns,target_attribute,GI)\n",
    "print(RootNode)"
   ]
  },
  {
   "cell_type": "code",
   "execution_count": 25,
   "metadata": {},
   "outputs": [
    {
     "name": "stdout",
     "output_type": "stream",
     "text": [
      "satisfaction_level\n"
     ]
    }
   ],
   "source": [
    "'''\n",
    "2. Misclassification\n",
    "'''\n",
    "\n",
    "MR = MissClass(dataframe,target_attribute)\n",
    "RootNode = WinnerMissClass(dataframe,columns,target_attribute,MR)\n",
    "print(RootNode)"
   ]
  }
 ],
 "metadata": {
  "kernelspec": {
   "display_name": "Python 3",
   "language": "python",
   "name": "python3"
  },
  "language_info": {
   "codemirror_mode": {
    "name": "ipython",
    "version": 3
   },
   "file_extension": ".py",
   "mimetype": "text/x-python",
   "name": "python",
   "nbconvert_exporter": "python",
   "pygments_lexer": "ipython3",
   "version": "3.7.1"
  }
 },
 "nbformat": 4,
 "nbformat_minor": 2
}
