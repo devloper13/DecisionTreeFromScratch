{
 "cells": [
  {
   "cell_type": "markdown",
   "metadata": {},
   "source": [
    "# Decision Tree Classifier\n",
    "\n",
    "<p>\n",
    "Decision trees are one of the most popular machine learning algorithms and are widely used in problems regarding classifications and regression. It is known for it's simplicity compared to most other machine algorithms as it mimics approximately a decision making of humans.\n",
    "</p> \n",
    "\n",
    "We will go through cell by cell to understand the working of the algorithm before actually executing and witnessing the results in the form of accuracy and plots. \n",
    "\n",
    "## Implementation Details\n",
    "\n",
    "### Preprocessing\n",
    "\n",
    "1. Given a training data (csv file), we must break it into a training and validation files (approx. 80% training set).\n",
    "\n",
    "2. The training data is used prepare a model which generalises (and not overfits) the data so as to use the fitted model to predict outcomes for unseen data \n",
    "\n",
    "### Decision Tree Algorithm\n",
    "\n",
    "1. There are two  differnt types of data we must handle separately. One is the <b>Categorical</b> data and the other is the <b>Numeric</b> data. The Categorical data is dealt by generating differnt branches for every unique values in the attribute since they are small in number unlike the categorical data where the data could be in real numbered format where number of branches could be really huge. So we handle categorical values differently, which will be discussed in following points.<br><br>\n",
    "\n",
    "2. In order to build a decision tree, we must decide attribute must be first decided in such a way that it generalizes the data split as purely as possible. For this we have something known as Impurity Measure. There are three main classes of impurity measure namely Entropy, Gini Index and Misclassification Error. The formula and implementaion will be discussed in the coming cells.<br><br>\n",
    "\n",
    "3. Splitting categorical data is pretty straight forward as they are discrete and easily be classified. But continuous variables (numeric data) must undergo different processing. Consider a seet of real numbers 0.1,0,2,0.25,0.26,0.27,0.34... and so on. We first count the number of distinct variables (binary in our case) in our target attribute. Next, we sort the column in question and scan it row by row and use the knowledge of the count of binary variables to calculate impurity. At every scan, at that particular index we consider that to be a split point i.e we make a binary split of the attribute at every point. Next we calculate the gain we get from all such splits possibles. Examples of splits are <=0.2 and >0.2 or <=0.26 and >0.26 and so on.<br><br>\n",
    "\n",
    "4. This way we keep a track these impurities (and thus gain) of every attribute. In the end we choose the attribute with most Information Gain or the least impurity measure (uncertainity). We repeat this process until we reach a pure state where the binary variables (target values) are divided in two seperate groups or if there's no more splits that can be done in the attribute (when all values are the same in one of the branches). <br><br>\n",
    "\n",
    "5. Once a tree model is built, we take our test data to traverse through out tree model and evaluate the results into True Positive, True Negative, False Positive and False Negative which is used to calculate various measures like Accuracy, Precision, Recall and F-Score.\n",
    "\n",
    "\n",
    "We discuss each step in the above mentioned algorithm with the help of the code in each cells.\n",
    "\n",
    "Execute the next cell to import important packages."
   ]
  },
  {
   "cell_type": "code",
   "execution_count": 151,
   "metadata": {},
   "outputs": [],
   "source": [
    "import pandas as pd\n",
    "import numpy as np\n",
    "from numpy import log2 as log\n",
    "import matplotlib.pyplot as plt\n",
    "import math\n",
    "import pprint"
   ]
  },
  {
   "cell_type": "markdown",
   "metadata": {},
   "source": [
    "To import the csv file, please give your path in the variable <b>data</b> below before executing. Note, that you can also change the size of the Training-Validation data in the variable <b>num_of_rows</b>"
   ]
  },
  {
   "cell_type": "code",
   "execution_count": 152,
   "metadata": {},
   "outputs": [],
   "source": [
    "'''\n",
    "Preprocessing data.\n",
    "\n",
    "Load the csv file into pandas dataframe\n",
    "'''\n",
    "\n",
    "def GetData(target_attribute):\n",
    "    #~/Documents/SMAI/Assignment1/SamplePlayData.csv\n",
    "    #~/Documents/SMAI/Assignment1/decision_Tree/train.csv\n",
    "    data = pd.read_csv('~/Documents/SMAI/Assignment1/decision_Tree/train.csv')\n",
    "    dataframe = pd.DataFrame(data)\n",
    "    \n",
    "    num_of_rows = math.floor(len(dataframe[target_attribute]) * 0.8)\n",
    "    dataframe = dataframe.sample(frac=1).reset_index(drop=True)\n",
    "    df = dataframe.copy()\n",
    "    dataframe = dataframe.head(num_of_rows)  #Train\n",
    "    test_data = df.tail(len(df[target_attribute]) - num_of_rows) #Test\n",
    "    #test_data = dataframe.sample(frac=0.2)\n",
    "    #actual_y = test_data[target_attribute].values\n",
    "    #test_data = test_data.drop(target_attribute, 1)\n",
    "    #train_data.sort() # sorts data\n",
    "    #test_data.sort()\n",
    "   \n",
    "    columns = list(dataframe.columns)\n",
    "    columns.remove(target_attribute)\n",
    "    return dataframe,test_data,columns"
   ]
  },
  {
   "cell_type": "markdown",
   "metadata": {},
   "source": [
    "The variable <b>target_variable</b> contains the name of the <b>target attribute</b> from your respective csv file.\n",
    "The variable <b>catcolumns</b> consists of all the columns that consists of categorical columns and the variable <b>numcolumns</b> consists of all the numerical columns. This cell also calls the GetData() functions to get the details from the csv file"
   ]
  },
  {
   "cell_type": "code",
   "execution_count": 153,
   "metadata": {},
   "outputs": [],
   "source": [
    "#Global initializations\n",
    "target_attribute = 'left'\n",
    "dataframe,test_data,columns = GetData(target_attribute)\n",
    "catcolumns = ['sales','salary','promotion_last_5years','Work_accident']\n",
    "numcolumns = ['satisfaction_level','last_evaluation','number_project','average_montly_hours','time_spend_company']"
   ]
  },
  {
   "cell_type": "markdown",
   "metadata": {},
   "source": [
    "## Different ways of calculating impurities\n",
    "\n",
    "As discussed in the algorithm above we must have a parameter through which we can split our data set in such a way that reduces the uncertainity of the split as much as possible (thus maximizing our chances of making our split as pure as possible).\n",
    "\n",
    "### Misclassifiction Error\n",
    "\n",
    "$M(p) = min(p,1-p)$\n",
    "\n",
    "where p is the probability of the existance of binary variables (target) in the current attribute values."
   ]
  },
  {
   "cell_type": "code",
   "execution_count": 154,
   "metadata": {},
   "outputs": [],
   "source": [
    "def MissClassFormula(prob):\n",
    "    return min(prob,1-prob)"
   ]
  },
  {
   "cell_type": "code",
   "execution_count": 155,
   "metadata": {},
   "outputs": [],
   "source": [
    "def MissClass(dataframe,target_attribute):\n",
    "    unique = list(dataframe[target_attribute].unique())\n",
    "    return (MissClassFormula(len(dataframe[target_attribute][dataframe[target_attribute] == unique[0]])/len(dataframe[target_attribute])))"
   ]
  },
  {
   "cell_type": "markdown",
   "metadata": {},
   "source": [
    "### Gini Index\n",
    "\n",
    "$G(p) = 2 * p * (1-p)$\n",
    "\n",
    "where p is the probability of the existance of binary variables (target) in the current attribute values."
   ]
  },
  {
   "cell_type": "code",
   "execution_count": 156,
   "metadata": {},
   "outputs": [],
   "source": [
    "'''\n",
    "used by GiniAttr and Gini functions\n",
    "'''\n",
    "def GiniFormula(prob):\n",
    "    if prob == 0:\n",
    "        return 0\n",
    "    G = 2 * prob * (1-prob)\n",
    "    return G"
   ]
  },
  {
   "cell_type": "code",
   "execution_count": 157,
   "metadata": {},
   "outputs": [],
   "source": [
    "def Gini(dataframe,target_attribute):\n",
    "    unique = list(dataframe[target_attribute].unique())\n",
    "    return (GiniFormula(len(dataframe[target_attribute][dataframe[target_attribute] == unique[0]])/len(dataframe[target_attribute])))"
   ]
  },
  {
   "cell_type": "markdown",
   "metadata": {},
   "source": [
    "### Entropy\n",
    "\n",
    "$E(p) = -1 * (p * log_2 p + (1-p) * log_2 (1-p))$\n",
    "\n",
    "where p is the probability of the existance of binary variables (target) in the current attribute values."
   ]
  },
  {
   "cell_type": "code",
   "execution_count": 158,
   "metadata": {},
   "outputs": [],
   "source": [
    "'''\n",
    "This function is common to Entropy and InformationGain \n",
    "'''\n",
    "def EntropyFormula(prob):\n",
    "    if prob == 0 or prob == 1:\n",
    "        return 0\n",
    "    E = prob * np.log2(prob) + (1-prob) * np.log2(1-prob)\n",
    "    E = -1 * E\n",
    "    return E"
   ]
  },
  {
   "cell_type": "code",
   "execution_count": 159,
   "metadata": {},
   "outputs": [],
   "source": [
    "def Entropy(dataframe,column):\n",
    "    unique_values = dataframe[column].unique()\n",
    "    E = 0\n",
    "    col_len = len(dataframe[column])\n",
    "    prob = (dataframe[column].value_counts()[unique_values[0]])/col_len\n",
    "    E = EntropyFormula(prob)\n",
    "    return E"
   ]
  },
  {
   "cell_type": "markdown",
   "metadata": {},
   "source": [
    "### Information Gain\n",
    "\n",
    "Information Gain can be understood as how low the uncertaininty of a split of atttribute values is with respect to the target values. Thus we aim for low uncertainity i.e high Information Gain.\n",
    "\n",
    "$Gain(S,A) = H(S) - \\sum_{V \\in A}\\dfrac{|V|}{|A|}E(S_V)$\n",
    "\n",
    "where $H(S)$ is the entropy of the target attribute which can be calculated through any of the three impurities above i.e $E(p),G(p)$ or $M(p)$,<br>\n",
    "A is the attribute in question,<br>\n",
    "V is the possible value of A,<br>\n",
    "$E(S_V)$ is the entropy of the subset of the attribute A with respect to the target attribute S."
   ]
  },
  {
   "cell_type": "code",
   "execution_count": 160,
   "metadata": {},
   "outputs": [],
   "source": [
    "'''\n",
    "Works like  Information Gain\n",
    "'''\n",
    "def Gain(dataframe,attribute,target_attribute,GI,impurity):\n",
    "    target_variables = list(dataframe[target_attribute].unique())\n",
    "    unique_values = dataframe[attribute].unique()\n",
    "    G=0\n",
    "    for attr in unique_values:\n",
    "        prob = (len(dataframe[attribute][dataframe[attribute] == attr][dataframe[target_attribute] == target_variables[0]]))/len(dataframe[attribute][dataframe[attribute]==attr])\n",
    "        if impurity == 'gini':\n",
    "            uncertainity = GiniFormula(prob)\n",
    "        elif impurity == 'entropy':\n",
    "            uncertainity = EntropyFormula(prob)\n",
    "        elif impurity == 'missclass':\n",
    "            uncertainity = MissClassFormula(prob)\n",
    "        G += (len(dataframe[attribute][dataframe[attribute] == attr])/len(dataframe[attribute]))*uncertainity\n",
    "    return GI-G"
   ]
  },
  {
   "cell_type": "markdown",
   "metadata": {},
   "source": [
    "### Continous to Categorical\n",
    "\n",
    "The logic here is to perform a binary split on every possible (unique) values of an attribute $A$ and calculate it's Information Gain with respect to the target variable. The split with the maximum Gain will be chosen as the point of split. To make it clearer consider a value $s$ in the attribute $A$ which gives the maximum gain. Then this continous attribute is now divided into two categories ${D_{<=s}}$ and $D_{>s}$.\n",
    "\n",
    "The function <b>discretize()</b> does this job. <br>\n",
    "The function <b>discrete_IG()</b> calculates the entropy of the attribute $A$ using one of the three impurities.\n"
   ]
  },
  {
   "cell_type": "code",
   "execution_count": 161,
   "metadata": {},
   "outputs": [],
   "source": [
    "def discrete_IG(split1,attribute_length,split_size,impurity):\n",
    "    prob1 = split1/split_size\n",
    "    if impurity == 'entropy':\n",
    "        E = EntropyFormula(prob1)\n",
    "    elif impurity == 'gini':\n",
    "        E = GiniFormula(prob1)\n",
    "    elif impurity == 'missclass':\n",
    "        E = MissClassFormula(prob1)\n",
    "    I = split_size/attribute_length\n",
    "    WE = I * E #weighted entropy\n",
    "    return WE"
   ]
  },
  {
   "cell_type": "code",
   "execution_count": 162,
   "metadata": {},
   "outputs": [],
   "source": [
    "def discretize(impurity,dataframe,attribute,target_attribute,target_values,ET):\n",
    "    \n",
    "    df_u = np.unique(dataframe[attribute]).shape[0]\n",
    "    #print(\"[printing 1 ]\",df_u)\n",
    "    if df_u <= 1:\n",
    "        return (0,-2) \n",
    "    #print(\"[discrte] dataframe-->attribute\",attribute,dataframe)    \n",
    "    dataframe = dataframe.sort_values(by=[attribute])\n",
    "    df_attr_arr = dataframe[attribute].values\n",
    "    #print(\"[discrte] dataframe-->attribute\",attribute,dataframe)\n",
    "    listofIG = []\n",
    "    attribute_length = len(dataframe[attribute])\n",
    "    start_index = 0\n",
    "    WE_head,WE_tail,gain,split,high = 0,0,-5,-1,-3\n",
    "    #print(\"[discretize] dataframe[target_attribute].value_counts()-->\",dataframe[target_attribute].value_counts())\n",
    "    V1 = len(dataframe[target_attribute][dataframe[target_attribute] == target_values[0]])\n",
    "    V2 = attribute_length - V1\n",
    "    split1_V1,split1_V2=0,0\n",
    "    split2_V1,split2_V2=V1,V2\n",
    "    #print(\"[discretize] dataframe[attribute]-->\",dataframe[target_attribute])\n",
    "    df_array = dataframe[target_attribute].values\n",
    "    #print(\"[discrete] ET = \",ET)\n",
    "    #print(\"[discrete] V1 = \",V1,\" V2 = \",V2)\n",
    "    while start_index < (attribute_length-1):\n",
    "        if df_array[start_index] == target_values[0]:\n",
    "            split1_V1+=1\n",
    "            split2_V1-=1\n",
    "        else:\n",
    "            split1_V2+=1\n",
    "            split2_V2-=1\n",
    "        if df_attr_arr[start_index] != df_attr_arr[start_index+1]:\n",
    "            #print(\"[discrete] attr -->\",df_attr_arr[start_index])\n",
    "            tail_value = attribute_length - (start_index + 1)\n",
    "            WE_head = discrete_IG(split1_V1,attribute_length,start_index+1,impurity)\n",
    "            WE_tail = discrete_IG(split2_V1,attribute_length,tail_value,impurity)\n",
    "            gain = ET - (WE_head+WE_tail)\n",
    "            #print(gain)\n",
    "            listofIG.append(gain)\n",
    "            if gain > high:\n",
    "                high = gain\n",
    "                split = df_attr_arr[start_index] \n",
    "            \n",
    "        start_index+=1\n",
    "            \n",
    "    return high,split"
   ]
  },
  {
   "cell_type": "markdown",
   "metadata": {},
   "source": [
    "### Choosing the best feature\n",
    "\n",
    "This function chooses the best feature (attribute) on which conditions will be made to build the tree. <br>\n",
    "The best feature is found by calculating the Information Gain of various attributes and selecting the attribute with most gain."
   ]
  },
  {
   "cell_type": "code",
   "execution_count": 163,
   "metadata": {},
   "outputs": [],
   "source": [
    "'''\n",
    "Calculates Gain Ratio and returns the best attribute\n",
    "DOUBT: What happens when Intrinsic value is 0?\n",
    "'''\n",
    "def WinnerAttr(impurity,dataframe,target_attribute,target_values,ET,attributes,catcolumns=None,numcolumns=None):\n",
    "    GainRatio = []\n",
    "    splitArray=[]\n",
    "    split = -1\n",
    "    flag = 0\n",
    "    \n",
    "    for attribute in attributes:\n",
    "        if numcolumns != None and attribute in numcolumns:\n",
    "            #print(\"[WinnerEntropy] Visited numeric column -- >\",attribute)\n",
    "            IG,split = discretize(impurity,dataframe,attribute,target_attribute,target_values,ET)\n",
    "            #print(\"[WinnerEntropy] Visited numeric column -- >\",attribute,\" Split -->\",split,\" IG-->\",IG)\n",
    "        else: \n",
    "            split = -1\n",
    "            #print(\"[WinnerEntropy] Visited categoric column -- >\",attribute)\n",
    "            IG = Gain(dataframe,attribute,target_attribute,ET,impurity)\n",
    "            \n",
    "        GainRatio.append(IG) #divide by Intr for intrinsic\n",
    "        splitArray.append(split)\n",
    "    if len(set(GainRatio)) == 1 and (numcolumns is not None):   #Remove this or change logic later because only cat doesn't work \n",
    "        #print(\"HI\")\n",
    "        flag = 1\n",
    "    return attributes[np.argmax(GainRatio)],splitArray[np.argmax(GainRatio)],flag"
   ]
  },
  {
   "cell_type": "markdown",
   "metadata": {},
   "source": [
    "### Building the Decision Tree\n",
    "\n",
    "This is a recursive function which traverses till a leaf node is found. The leaf node will be our final answer to a query.\n",
    "\n",
    "The steps followed by this tree is mentioned in the Implementation Details at the very beginning.\n"
   ]
  },
  {
   "cell_type": "code",
   "execution_count": 164,
   "metadata": {},
   "outputs": [],
   "source": [
    "def BuildTree(depth,impurity,dataframe,target_attribute,target_values,ET,columns,catcolumns=None,numcolumns=None,Tree=None):\n",
    "    global num_nodes\n",
    "    num_nodes+=1\n",
    "    \n",
    "    if len(columns) == 0 or (depth is not None and depth == 0):\n",
    "        prob=0\n",
    "        a = len(dataframe[target_attribute][dataframe[target_attribute] == target_values[0]])\n",
    "        b = len(dataframe[target_attribute][dataframe[target_attribute] == target_values[1]])\n",
    "        if a>=b:\n",
    "            return target_values[0]\n",
    "        else:\n",
    "            return target_values[1]\n",
    "  \n",
    "    if impurity == 'entropy':    \n",
    "        ET = Entropy(dataframe,target_attribute)\n",
    "    elif impurity == 'gini':\n",
    "        ET = Gini(dataframe,target_attribute)\n",
    "    elif impurity == 'missclass':\n",
    "        ET = MissClass(dataframe,target_attribute)\n",
    "    Node,split,flag = WinnerAttr(impurity,dataframe,target_attribute,target_values,ET,columns,catcolumns,numcolumns) \n",
    "    if depth is not None:\n",
    "        depth-=1\n",
    "    \n",
    "    if flag== 1 or len(dataframe[Node].unique()) == 1:\n",
    "        prob=0\n",
    "        a = len(dataframe[target_attribute][dataframe[target_attribute] == target_values[0]])\n",
    "        b = len(dataframe[target_attribute][dataframe[target_attribute] == target_values[1]])\n",
    "        if a>=b:\n",
    "            return target_values[0]\n",
    "        else:\n",
    "            return target_values[1] \n",
    "\n",
    "    if Tree == None:\n",
    "        Tree = {}\n",
    "        Tree[Node] = {}\n",
    "    if split == -1:    \n",
    "        unique_values = list(dataframe[Node].unique())\n",
    "    else:\n",
    "        unique_values = []\n",
    "        unique_values.append(split)\n",
    "        unique_values.append(split+1)\n",
    "    for value in unique_values:\n",
    "        newcol = columns.copy()\n",
    "        if len(dataframe[target_attribute].unique())== 1:\n",
    "            return (list(dataframe[target_attribute].unique())[0]) \n",
    "        else:\n",
    "            \n",
    "            Tree[Node][value] = {}\n",
    "            if split == -1:\n",
    "                newcol.remove(Node)\n",
    "                Tree[Node][value]=BuildTree(depth,impurity,dataframe[dataframe[Node] == value], \\\n",
    "                    target_attribute,target_values,ET,newcol,catcolumns,numcolumns)\n",
    "            else:\n",
    "                if value == unique_values[0]:\n",
    "                    Tree[Node][value] = BuildTree(depth,impurity,dataframe[dataframe[Node] <= split],target_attribute, \\\n",
    "                                target_values,ET,newcol,catcolumns,numcolumns)\n",
    "                else:\n",
    "                    Tree[Node][value] = BuildTree(depth,impurity,dataframe[dataframe[Node] > split], \\\n",
    "                                target_attribute,target_values,ET,newcol,catcolumns,numcolumns)               \n",
    "    return Tree"
   ]
  },
  {
   "cell_type": "markdown",
   "metadata": {},
   "source": [
    "### Prediction using test data\n",
    "\n",
    "The function <b>Measure(Model,TestData,**Args)</b> is the function that <b>predicts</b> the value for a test set. <br>*Args --> consists of <b>numcolumns</b> which is an array of numerical columns and <b>target_attribute</b> is the name of the target attribute "
   ]
  },
  {
   "cell_type": "code",
   "execution_count": 165,
   "metadata": {},
   "outputs": [],
   "source": [
    "def predict(TreeModel,test_data,row,numcolumns):\n",
    "    while isinstance(TreeModel,dict):\n",
    "        attribute = next(iter(TreeModel))\n",
    "        #print(\"attribute-->\",attribute)\n",
    "        value = test_data[attribute].values[row]\n",
    "        #print(\"value -->\",value)\n",
    "        try:\n",
    "            if attribute not in numcolumns:\n",
    "                #print(TreeModel[attribute])\n",
    "                TreeModel = TreeModel[attribute][value]\n",
    "            else:\n",
    "                if value <= next(iter(TreeModel[attribute])):\n",
    "                    TreeModel = TreeModel[attribute][next(iter(TreeModel[attribute]))]\n",
    "                else:\n",
    "                    TreeModel = TreeModel[attribute][next(iter(TreeModel[attribute])) + 1]\n",
    "        except KeyError:\n",
    "            return 0\n",
    "    return TreeModel"
   ]
  },
  {
   "cell_type": "code",
   "execution_count": 166,
   "metadata": {},
   "outputs": [],
   "source": [
    "def predictY(TreeModel,test_data,numcolumns,target_attribute):\n",
    "    predicted_y = []\n",
    "    size = len(test_data[target_attribute])\n",
    "    #print(size)\n",
    "    i = 0\n",
    "    while i<= size-1:\n",
    "        #print(\"[predicted_y] i -->\",i)\n",
    "        y = predict(TreeModel,test_data,i,numcolumns)\n",
    "        #print(y)\n",
    "        predicted_y.append(y)\n",
    "        i+=1\n",
    "    return predicted_y "
   ]
  },
  {
   "cell_type": "code",
   "execution_count": 167,
   "metadata": {},
   "outputs": [],
   "source": [
    "def Measure(TreeModel,test_data,numcolumns,target_attribute):\n",
    "    '''\n",
    "    Predict using Tree Model\n",
    "    '''\n",
    "    #global actual_y\n",
    "    actual_y = test_data[target_attribute].values\n",
    "    predicted_y = predictY(TreeModel,test_data,numcolumns,target_attribute)\n",
    "    #print(len(predicted_y))\n",
    "    #print(len(actual_y))\n",
    "    TP,TN,FP,FN = 0,0,0,0\n",
    "    j=0\n",
    "    for i in actual_y:\n",
    "        if i == 1 and i == predicted_y[j]:\n",
    "            TN+=1\n",
    "        elif i == 1 and i!=predicted_y[j]:\n",
    "            FP+=1\n",
    "        elif i == 0 and i == predicted_y[j]:\n",
    "            TP+=1\n",
    "        elif i == 0 and i!=predicted_y[j]:\n",
    "            FN+=1\n",
    "        j+=1    \n",
    "\n",
    "\n",
    "    Accuracy = ((TP+TN)/(TP+TN+FP+FN))\n",
    "    Precision = (TP/(TP+FP))\n",
    "    Recall = (TP/(TP+FN))\n",
    "    FScore = 2/((1/Precision)+(1/Recall))\n",
    "    \n",
    "    \n",
    "    return Accuracy,Precision,Recall,FScore\n",
    "    "
   ]
  },
  {
   "cell_type": "markdown",
   "metadata": {},
   "source": [
    "# Part-1\n",
    "\n",
    "### Train decision tree only on categorical data. Report precision, recall, f1 score and accuracy."
   ]
  },
  {
   "cell_type": "code",
   "execution_count": 169,
   "metadata": {},
   "outputs": [
    {
     "name": "stdout",
     "output_type": "stream",
     "text": [
      "Preparing tree...\n",
      "Tree Created\n",
      "=========================================\n",
      "Accuracy :  0.7508896797153025\n",
      "Precision:  0.7508896797153025\n",
      "Recall   :  1.0\n",
      "F-Score  :  0.8577235772357725\n",
      "=========================================\n"
     ]
    }
   ],
   "source": [
    "'''\n",
    "Q1. ENTROPY (Only categorical)\n",
    "target_values -> Yes/No\n",
    "'''\n",
    "impurity = 'entropy'\n",
    "target_values = dataframe[target_attribute].unique()\n",
    "depth = None\n",
    "num_nodes = 0\n",
    "print(\"Preparing tree...\")\n",
    "TreeModel = BuildTree(depth,impurity,dataframe,target_attribute,target_values,None,catcolumns,None,None,None)\n",
    "print(\"Tree Created\")\n",
    "print(\"=========================================\")\n",
    "Accuracy,Precision,Recall,FScore = Measure(TreeModel,test_data,numcolumns,target_attribute)\n",
    "print(\"Accuracy : \",Accuracy)\n",
    "print(\"Precision: \",Precision)\n",
    "print(\"Recall   : \",Recall)\n",
    "print(\"F-Score  : \",FScore)\n",
    "print(\"=========================================\")"
   ]
  },
  {
   "cell_type": "markdown",
   "metadata": {},
   "source": [
    "# Part-2\n",
    "### Train the decision tree with categorical and numerical features. Report precision, recall, f1 score and accuracy."
   ]
  },
  {
   "cell_type": "code",
   "execution_count": 170,
   "metadata": {},
   "outputs": [
    {
     "name": "stdout",
     "output_type": "stream",
     "text": [
      "Preparing Tree...\n",
      "Tree created\n",
      "=========================================\n",
      "Accuracy :  0.9706405693950177\n",
      "Precision:  0.9897342995169082\n",
      "Recall   :  0.9709715639810427\n",
      "F-Score  :  0.980263157894737\n",
      "=========================================\n"
     ]
    }
   ],
   "source": [
    "'''\n",
    "Q2. ENTROPY with Continuous and Categorical\n",
    "'''\n",
    "impurity = 'entropy'\n",
    "depth = None\n",
    "num_nodes = 0\n",
    "target_values = dataframe[target_attribute].unique()\n",
    "print(\"Preparing Tree...\")\n",
    "TreeModel = BuildTree(depth,impurity,dataframe,target_attribute,target_values,None,columns,None,numcolumns,None)\n",
    "print(\"Tree created\")\n",
    "print(\"=========================================\")\n",
    "Accuracy,Precision,Recall,FScore = Measure(TreeModel,test_data,numcolumns,target_attribute)\n",
    "print(\"Accuracy : \",Accuracy)\n",
    "print(\"Precision: \",Precision)\n",
    "print(\"Recall   : \",Recall)\n",
    "print(\"F-Score  : \",FScore)\n",
    "print(\"=========================================\")"
   ]
  },
  {
   "cell_type": "markdown",
   "metadata": {},
   "source": [
    "# Part-3\n",
    "### Contrast the effectiveness of Misclassification rate, Gini, Entropy as impurity measures in terms of precision, recall and accuracy."
   ]
  },
  {
   "cell_type": "code",
   "execution_count": 175,
   "metadata": {},
   "outputs": [
    {
     "name": "stdout",
     "output_type": "stream",
     "text": [
      "Preparing tree...\n",
      "Tree Created\n",
      "=========================================\n",
      "Accuracy :  0.7508896797153025\n",
      "Precision:  0.7508896797153025\n",
      "Recall   :  1.0\n",
      "F-Score  :  0.8577235772357725\n",
      "=========================================\n"
     ]
    }
   ],
   "source": [
    "'''\n",
    "Q1. ENTROPY (Only categorical)\n",
    "target_values -> Yes/No\n",
    "'''\n",
    "impurity = 'entropy'\n",
    "target_values = dataframe[target_attribute].unique()\n",
    "depth = None\n",
    "num_nodes = 0\n",
    "print(\"Preparing tree...\")\n",
    "TreeModel = BuildTree(depth,impurity,dataframe,target_attribute,target_values,None,catcolumns,None,None,None)\n",
    "print(\"Tree Created\")\n",
    "print(\"=========================================\")\n",
    "Accuracy,Precision,Recall,FScore = Measure(TreeModel,test_data,numcolumns,target_attribute)\n",
    "print(\"Accuracy : \",Accuracy)\n",
    "print(\"Precision: \",Precision)\n",
    "print(\"Recall   : \",Recall)\n",
    "print(\"F-Score  : \",FScore)\n",
    "print(\"=========================================\")"
   ]
  },
  {
   "cell_type": "code",
   "execution_count": 171,
   "metadata": {},
   "outputs": [
    {
     "name": "stdout",
     "output_type": "stream",
     "text": [
      "Preparing tree...\n",
      "Tree Created...\n",
      "=========================================\n",
      "Accuracy :  0.7508896797153025\n",
      "Precision:  0.7508896797153025\n",
      "Recall   :  1.0\n",
      "F-Score  :  0.8577235772357725\n",
      "=========================================\n"
     ]
    }
   ],
   "source": [
    "'''\n",
    "Q1. GINI (Only categorical)\n",
    "'''\n",
    "impurity = 'gini'\n",
    "GI = Gini(dataframe,target_attribute)\n",
    "depth = None\n",
    "num_nodes = 0\n",
    "print(\"Preparing tree...\")\n",
    "TreeModel = BuildTree(depth,impurity,dataframe,target_attribute,target_values,None,catcolumns,None,None,None)\n",
    "print(\"Tree Created...\")\n",
    "print(\"=========================================\")\n",
    "Accuracy,Precision,Recall,FScore = Measure(TreeModel,test_data,numcolumns,target_attribute)\n",
    "print(\"Accuracy : \",Accuracy)\n",
    "print(\"Precision: \",Precision)\n",
    "print(\"Recall   : \",Recall)\n",
    "print(\"F-Score  : \",FScore)\n",
    "print(\"=========================================\")"
   ]
  },
  {
   "cell_type": "code",
   "execution_count": 177,
   "metadata": {},
   "outputs": [
    {
     "name": "stdout",
     "output_type": "stream",
     "text": [
      "Preparing tree...\n",
      "Tree Created...\n",
      "=========================================\n",
      "Accuracy :  0.7513345195729537\n",
      "Precision:  0.7512238540275924\n",
      "Recall   :  1.0\n",
      "F-Score  :  0.8579415501905973\n",
      "=========================================\n"
     ]
    }
   ],
   "source": [
    "'''\n",
    "Q1. Misclassification Error (Only categorical)\n",
    "'''\n",
    "impurity = 'missclass'\n",
    "GI = Gini(dataframe,target_attribute)\n",
    "depth = None\n",
    "num_nodes = 0\n",
    "print(\"Preparing tree...\")\n",
    "TreeModel = BuildTree(depth,impurity,dataframe,target_attribute,target_values,None,catcolumns,None,None,None)\n",
    "print(\"Tree Created...\")\n",
    "print(\"=========================================\")\n",
    "Accuracy,Precision,Recall,FScore = Measure(TreeModel,test_data,numcolumns,target_attribute)\n",
    "print(\"Accuracy : \",Accuracy)\n",
    "print(\"Precision: \",Precision)\n",
    "print(\"Recall   : \",Recall)\n",
    "print(\"F-Score  : \",FScore)\n",
    "print(\"=========================================\")"
   ]
  },
  {
   "cell_type": "code",
   "execution_count": 181,
   "metadata": {},
   "outputs": [
    {
     "name": "stdout",
     "output_type": "stream",
     "text": [
      "Preparing Tree...\n",
      "Tree created\n",
      "=========================================\n",
      "Accuracy :  0.9706405693950177\n",
      "Precision:  0.9897342995169082\n",
      "Recall   :  0.9709715639810427\n",
      "F-Score  :  0.980263157894737\n",
      "=========================================\n"
     ]
    }
   ],
   "source": [
    "'''\n",
    "Q2. ENTROPY with Continuous and Categorical\n",
    "'''\n",
    "impurity = 'entropy'\n",
    "depth = None\n",
    "num_nodes = 0\n",
    "target_values = dataframe[target_attribute].unique()\n",
    "print(\"Preparing Tree...\")\n",
    "TreeModel = BuildTree(depth,impurity,dataframe,target_attribute,target_values,None,columns,None,numcolumns,None)\n",
    "print(\"Tree created\")\n",
    "print(\"=========================================\")\n",
    "Accuracy,Precision,Recall,FScore = Measure(TreeModel,test_data,numcolumns,target_attribute)\n",
    "print(\"Accuracy : \",Accuracy)\n",
    "print(\"Precision: \",Precision)\n",
    "print(\"Recall   : \",Recall)\n",
    "print(\"F-Score  : \",FScore)\n",
    "print(\"=========================================\")"
   ]
  },
  {
   "cell_type": "code",
   "execution_count": 182,
   "metadata": {},
   "outputs": [
    {
     "name": "stdout",
     "output_type": "stream",
     "text": [
      "Preparing Tree...\n",
      "Tree created\n",
      "=========================================\n",
      "Accuracy :  0.9719750889679716\n",
      "Precision:  0.9874025194961008\n",
      "Recall   :  0.9751184834123223\n",
      "F-Score  :  0.9812220566318927\n",
      "=========================================\n"
     ]
    }
   ],
   "source": [
    "'''\n",
    "Q2. GINI with Continuous and Categorical\n",
    "'''\n",
    "impurity = 'gini'\n",
    "depth = None\n",
    "num_nodes = 0\n",
    "target_values = dataframe[target_attribute].unique()\n",
    "print(\"Preparing Tree...\")\n",
    "TreeModel = BuildTree(depth,impurity,dataframe,target_attribute,target_values,None,columns,None,numcolumns,None)\n",
    "print(\"Tree created\")\n",
    "print(\"=========================================\")\n",
    "Accuracy,Precision,Recall,FScore = Measure(TreeModel,test_data,numcolumns,target_attribute)\n",
    "print(\"Accuracy : \",Accuracy)\n",
    "print(\"Precision: \",Precision)\n",
    "print(\"Recall   : \",Recall)\n",
    "print(\"F-Score  : \",FScore)\n",
    "print(\"=========================================\")"
   ]
  },
  {
   "cell_type": "code",
   "execution_count": 183,
   "metadata": {
    "scrolled": false
   },
   "outputs": [
    {
     "name": "stdout",
     "output_type": "stream",
     "text": [
      "Preparing Tree...\n",
      "Tree created\n",
      "=========================================\n",
      "Accuracy :  0.9786476868327402\n",
      "Precision:  0.9834905660377359\n",
      "Recall   :  0.9881516587677726\n",
      "F-Score  :  0.9858156028368795\n",
      "=========================================\n"
     ]
    }
   ],
   "source": [
    "'''\n",
    "Q2. MISCLASSIFICATION with Continuous and Categorical\n",
    "'''\n",
    "impurity = 'missclass'\n",
    "depth = None\n",
    "num_nodes = 0\n",
    "target_values = dataframe[target_attribute].unique()\n",
    "print(\"Preparing Tree...\")\n",
    "TreeModel = BuildTree(depth,impurity,dataframe,target_attribute,target_values,None,columns,None,numcolumns,None)\n",
    "print(\"Tree created\")\n",
    "print(\"=========================================\")\n",
    "Accuracy,Precision,Recall,FScore = Measure(TreeModel,test_data,numcolumns,target_attribute)\n",
    "print(\"Accuracy : \",Accuracy)\n",
    "print(\"Precision: \",Precision)\n",
    "print(\"Recall   : \",Recall)\n",
    "print(\"F-Score  : \",FScore)\n",
    "print(\"=========================================\")"
   ]
  },
  {
   "cell_type": "markdown",
   "metadata": {},
   "source": [
    "# Part-4\n",
    "### Visualise training data on a 2-dimensional plot taking one feature (attribute) on one axis and other feature on another axis. Take two suitable features to visualise decision tree boundary (Hint: use scatter plot with different colors for each label)."
   ]
  },
  {
   "cell_type": "code",
   "execution_count": 179,
   "metadata": {},
   "outputs": [
    {
     "data": {
      "image/png": "[encoded data removed]",
      "text/plain": [
       "<Figure size 432x288 with 1 Axes>"
      ]
     },
     "metadata": {
      "needs_background": "light"
     },
     "output_type": "display_data"
    }
   ],
   "source": [
    "x = dataframe[list(dataframe.columns)[0]]\n",
    "y = dataframe[list(dataframe.columns)[1]]\n",
    "z = dataframe[target_attribute]\n",
    "\n",
    "not_left = []\n",
    "new_x = []\n",
    "j = 0\n",
    "for i in z:\n",
    "    if i == 1:\n",
    "        not_left.append(y[j])\n",
    "        new_x.append(x[j])\n",
    "    j+=1    \n",
    "plt.scatter(x,y,color = 'r',label = 'Left',s=50)\n",
    "plt.scatter(new_x,not_left,color = 'g',label = 'Not Left',s=50)\n",
    "plt.xlabel(list(dataframe.columns)[0])\n",
    "plt.ylabel(list(dataframe.columns)[1])\n",
    "plt.title('Decision Tree Boundary')\n",
    "plt.legend()\n",
    "plt.show()"
   ]
  },
  {
   "cell_type": "markdown",
   "metadata": {},
   "source": [
    "# Part-5\n",
    "### Plot a graph of training and validation error with respect to depth of your decision tree. Also plot the training and validation error with respect to number of nodes in the decision tree."
   ]
  },
  {
   "cell_type": "code",
   "execution_count": 180,
   "metadata": {
    "scrolled": false
   },
   "outputs": [
    {
     "name": "stdout",
     "output_type": "stream",
     "text": [
      "Depth  1  measured\n",
      "Depth  2  measured\n",
      "Depth  3  measured\n",
      "Depth  4  measured\n",
      "Depth  5  measured\n",
      "Depth  6  measured\n",
      "Depth  7  measured\n",
      "Depth  8  measured\n",
      "Depth  9  measured\n",
      "Depth  10  measured\n"
     ]
    },
    {
     "data": {
      "image/png": "[encoded data removed]",
      "text/plain": [
       "<Figure size 432x288 with 1 Axes>"
      ]
     },
     "metadata": {
      "needs_background": "light"
     },
     "output_type": "display_data"
    },
    {
     "data": {
      "image/png": "[encoded data removed]",
      "text/plain": [
       "<Figure size 432x288 with 1 Axes>"
      ]
     },
     "metadata": {
      "needs_background": "light"
     },
     "output_type": "display_data"
    }
   ],
   "source": [
    "#Training Error\n",
    "'''\n",
    "Q2. ENTROPY with Continuous and Categorical\n",
    "'''\n",
    "impurity = 'entropy'\n",
    "target_values = dataframe[target_attribute].unique()\n",
    "depth = 1\n",
    "depth_array = []\n",
    "training_error = []\n",
    "validation_error = []\n",
    "nodes = []\n",
    "while depth < 11:\n",
    "    print(\"Depth \",depth,\" measured\")\n",
    "    num_nodes = 0\n",
    "    TreeModel = BuildTree(depth,impurity,dataframe,target_attribute,target_values,None,columns,None,numcolumns,None)\n",
    "    nodes.append(num_nodes)\n",
    "    Accuracy,Precision,Recall,FScore = Measure(TreeModel,dataframe,numcolumns,target_attribute)\n",
    "    training_error.append(1-Accuracy)\n",
    "    Accuracy,Precision,Recall,FScore = Measure(TreeModel,test_data,numcolumns,target_attribute)\n",
    "    validation_error.append(1-Accuracy)\n",
    "    depth_array.append(depth)\n",
    "    depth+=1\n",
    "plt.plot(depth_array,training_error,color = 'r',label = 'Training Error')\n",
    "plt.plot(depth_array,validation_error,color = 'g',label = 'Validation Error')\n",
    "plt.xlabel('Decision Tree Depth')\n",
    "plt.ylabel('Error')\n",
    "plt.legend()\n",
    "plt.show()\n",
    "\n",
    "sorted_nodes1 = zip(*sorted(zip(*(nodes,training_error))))\n",
    "sorted_nodes2 = zip(*sorted(zip(*(nodes,validation_error))))\n",
    "\n",
    "plt.plot(*sorted_nodes1,color = 'r',label = 'Training Error')\n",
    "plt.plot(*sorted_nodes2,color = 'g',label = 'Validation Error')\n",
    "plt.xlabel('Number of nodes')\n",
    "plt.ylabel('Error')\n",
    "plt.legend()\n",
    "plt.show()\n"
   ]
  },
  {
   "cell_type": "markdown",
   "metadata": {},
   "source": [
    "# Part-6\n",
    "### Explain how decision tree is suitable handle missing values(few attributes missing in test samples) in data.\n",
    "\n",
    "There are a few ways to handle missing attributes.\n",
    "\n",
    "<b>1. Naive way</b>\n",
    "\n",
    "One easy way to deal the missing attribute is to return the maximum of True or False (in case of a Binary Classifier). This is defintely not the efficient way but may do the job depending on the type of the dataset.\n",
    "\n",
    "<b>2. Distribute data to other attributes</b>\n",
    "\n",
    "While traversing the tree model, we could encounter a situation where we end up on a node (feature or attribute) which des not exist in the current test data set,thus making it difficult to conclude a target variable as it is impossible to make a condition out of a attribute that does not exist.\n",
    "\n",
    "To handle that we must traverse to the end of the tree, by sending our data to all of it's child nodes (features or atttributes). The same process continues till we reach the leaf node following the similar procedure (if more missing attributes encountered down the line). Once we reach all possible leaf nodes, we sum all the number of individual variables (eg. number 1's and 0's) and return maximum among them. This is a much more optimized version of the naive way mentioned above. "
   ]
  },
  {
   "cell_type": "code",
   "execution_count": null,
   "metadata": {},
   "outputs": [],
   "source": []
  }
 ],
 "metadata": {
  "kernelspec": {
   "display_name": "Python 3",
   "language": "python",
   "name": "python3"
  },
  "language_info": {
   "codemirror_mode": {
    "name": "ipython",
    "version": 3
   },
   "file_extension": ".py",
   "mimetype": "text/x-python",
   "name": "python",
   "nbconvert_exporter": "python",
   "pygments_lexer": "ipython3",
   "version": "3.7.1"
  }
 },
 "nbformat": 4,
 "nbformat_minor": 2
}
