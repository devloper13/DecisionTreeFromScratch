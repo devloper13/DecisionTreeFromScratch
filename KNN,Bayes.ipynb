{
 "cells": [
  {
   "cell_type": "code",
   "execution_count": 417,
   "metadata": {},
   "outputs": [],
   "source": [
    "import numpy as np\n",
    "import pandas as pd\n",
    "import math\n",
    "import operator\n",
    "import matplotlib.pyplot as plt\n",
    "import pprint"
   ]
  },
  {
   "cell_type": "code",
   "execution_count": 449,
   "metadata": {},
   "outputs": [],
   "source": [
    "def get_test_train(location):\n",
    "    location = '~/Documents/SMAI/Assignment2/' + location\n",
    "    dataframe = pd.read_csv(location,header = None)\n",
    "    train  = dataframe[:int(0.8*len(dataframe))]\n",
    "    test = dataframe[int(0.8*len(dataframe)):]\n",
    "    return test,train"
   ]
  },
  {
   "cell_type": "code",
   "execution_count": 442,
   "metadata": {},
   "outputs": [],
   "source": [
    "'''\n",
    "USED IN KNN\n",
    "'''\n",
    "def minkowski_predict(test_row,train_row,power,target):\n",
    "    dist = 0\n",
    "    for attribute in range(0,len(test_row)):\n",
    "        if attribute != target:\n",
    "            dist+=(pow(abs(test_row[attribute] - train_row[attribute]),power))\n",
    "    return dist "
   ]
  },
  {
   "cell_type": "code",
   "execution_count": 443,
   "metadata": {
    "scrolled": false
   },
   "outputs": [],
   "source": [
    "'''\n",
    "USED IN KNN\n",
    "'''\n",
    "def getsecond(item):\n",
    "    return item[1]\n",
    "\n",
    "\n",
    "def KNN(test,train,K,dist_measure,target):\n",
    "    unique_values = np.unique(train.values[:,target])\n",
    "    maxval = -1\n",
    "    winner = None\n",
    "    class_dict = {}\n",
    "    for classVal in unique_values:\n",
    "        class_dict[classVal] = 0\n",
    "  \n",
    "    if dist_measure == 'euclid':\n",
    "        power = 2\n",
    "    elif dist_measure == 'cheby':\n",
    "        power = 1\n",
    "    predicted = []\n",
    "    for test_row in test.values:\n",
    "        #print(test_row)\n",
    "        knn = []\n",
    "        maxval = -1\n",
    "        winner = None\n",
    "        for train_row in train.values:\n",
    "            #print(train_row)\n",
    "            #print(test_row)\n",
    "            y = minkowski_predict(test_row,train_row,power,target)\n",
    "            #print(y)\n",
    "            knn.append((train_row[target],y))\n",
    "        knn.sort(key = getsecond)\n",
    "        \n",
    "        #print(knn)\n",
    "        for i in range(0,K):\n",
    "            class_dict[knn[i][0]]+=1\n",
    "            #if class_dict[knn[i][0]] > maxval:\n",
    "            #    winner = knn[i][0]\n",
    "            #    maxval = class_dict[knn[i][0]]\n",
    "        winner = max(class_dict.items(),key=operator.itemgetter(1))[0]    \n",
    "        predicted.append(winner)\n",
    "        #print(class_dict)\n",
    "        for classVal in unique_values:\n",
    "            class_dict[classVal] = 0\n",
    "    return predicted        "
   ]
  },
  {
   "cell_type": "code",
   "execution_count": 485,
   "metadata": {},
   "outputs": [],
   "source": [
    "'''\n",
    "USED IN NAIVE BAYES\n",
    "'''\n",
    "def NaivePredict(NaiveModel,test,train,target,catcolumns):\n",
    "    size = train.shape[0]  \n",
    "    class_count = {}\n",
    "    unique_classes = np.unique(train.values[:,target])\n",
    "    for classes in unique_classes:\n",
    "        class_count[classes] = 0 \n",
    "        \n",
    "    for i in train.values[:,target]:\n",
    "        class_count[i]+=1/size\n",
    "    result= 1\n",
    "    column_pos=1\n",
    "    largest=-1\n",
    "    class_lab = None\n",
    "    predicted_y = []\n",
    "    #print(train)\n",
    "    #print(test)\n",
    "    for row in test.values:\n",
    "        #print(row)\n",
    "        for key in NaiveModel:\n",
    "            while column_pos < row.shape[0]:\n",
    "                if column_pos!=target:\n",
    "                    if column_pos in catcolumns:\n",
    "                        result *= NaiveModel[key][column_pos][row[column_pos]] \n",
    "                    else:\n",
    "                        #print(key,column_pos,NaiveModel[key][column_pos])\n",
    "                        mean = NaiveModel[key][column_pos]['mean']\n",
    "                        var = NaiveModel[key][column_pos]['var']\n",
    "                        distribution = 1/(np.sqrt(2*np.pi*var)) * np.exp((-(row[column_pos]-mean)**2)/(2*var))\n",
    "                        result*=distribution\n",
    "                else:\n",
    "                    column_pos+=1 \n",
    "                    continue\n",
    "                column_pos+=1    \n",
    "            \n",
    "            result*=class_count[key]\n",
    "            column_pos = 1\n",
    "            if result > largest:\n",
    "                largest = result\n",
    "                class_lab = key\n",
    "            result=1    \n",
    "        \n",
    "        predicted_y.append(class_lab)\n",
    "        largest=-1\n",
    "        class_lab=None\n",
    "    #print(predicted_y)\n",
    "    a,p,r,f = BinaryMeasure(predicted_y,test,target)\n",
    "    print(a,p,r,f)\n",
    "                        "
   ]
  },
  {
   "cell_type": "code",
   "execution_count": 486,
   "metadata": {},
   "outputs": [],
   "source": [
    "'''\n",
    "USED IN NAIVE BAYES\n",
    "'''\n",
    "\n",
    "def NaiveBayes(train,target,catcolumns):\n",
    "    #get a count of classes in target variable\n",
    "    unique_classes = np.unique(train.values[:,target])\n",
    "    size = train.shape[0]\n",
    "    class_dict = {}\n",
    "  \n",
    "    for classes in unique_classes:\n",
    "        class_dict[classes] = {}    #For probability\n",
    "        \n",
    "    column_pos = 1  \n",
    "    noofcolumns = train.values.shape[1] \n",
    "    while column_pos < noofcolumns:\n",
    "        attribute = train.values[:,column_pos]\n",
    "        for key in class_dict:\n",
    "            class_dict[key][column_pos] = {}\n",
    "            filtered_mat = train.values[(train.values[:,target] == key),:]\n",
    "            key_size = filtered_mat.shape[0]\n",
    "            if column_pos in catcolumns:\n",
    "                unique_category = np.unique(attribute)\n",
    "                for category in unique_category:\n",
    "                    class_dict[key][column_pos][category] = 0\n",
    "                    filtered_mat = (train.values[:,column_pos] == category) & (train.values[:,target] == key)\n",
    "                    filtered_mat = train.values[filtered_mat,:]\n",
    "                    class_dict[key][column_pos][category] = filtered_mat.shape[0]/key_size\n",
    "            elif column_pos!=target:\n",
    "                mean = filtered_mat[:,column_pos].mean(axis=0)\n",
    "                var = filtered_mat[:,column_pos].var(axis=0)\n",
    "                class_dict[key][column_pos]['mean'] = mean\n",
    "                class_dict[key][column_pos]['var'] = var\n",
    "        column_pos+=1\n",
    "    return class_dict    \n",
    "    #pprint.pprint(class_dict)        \n",
    "                    \n",
    "                "
   ]
  },
  {
   "cell_type": "code",
   "execution_count": 446,
   "metadata": {},
   "outputs": [],
   "source": [
    "def BinaryMeasure(predicted_y,test,target):\n",
    "    j = 0\n",
    "    TN=0\n",
    "    TP=0\n",
    "    FN=0\n",
    "    FP=0\n",
    "    for i in predicted_y:\n",
    "        if i==0 and i == (test.values)[j][target]:\n",
    "            TN+=1\n",
    "        elif i==0 and i!= (test.values)[j][target]:\n",
    "            FN+=1\n",
    "        elif i==1 and i == (test.values)[j][target]:\n",
    "            TP+=1\n",
    "        elif i==1 and i!= (test.values)[j][target]:\n",
    "            FP+=1\n",
    "        j+=1\n",
    "        \n",
    "    accuracy =  (TP+TN)/(TP+TN+FP+FN)\n",
    "    precision = (TP)/(TP+FP)\n",
    "    recall = (TP)/(TP+FN)\n",
    "    fscore = 2/((1/precision)+(1/recall))\n",
    "    return accuracy,precision,recall,fscore"
   ]
  },
  {
   "cell_type": "code",
   "execution_count": 447,
   "metadata": {},
   "outputs": [],
   "source": [
    "def MultipleMeasure(predicted_y,test,train,target):\n",
    "    j=0\n",
    "    unique_classes = np.unique(train.values[:,target])\n",
    "    accuracy = 0\n",
    "    precision = 0\n",
    "    recall = 0\n",
    "    fscore = 0\n",
    "\n",
    "    class_dict = {}\n",
    "    for lclass in unique_classes:\n",
    "        class_dict[lclass] = 0\n",
    "   \n",
    "    for i in (test.values)[:,target]:\n",
    "        class_dict[i]+=1\n",
    "        j+=1\n",
    "    j=0\n",
    "    \n",
    "    size = test.shape[0]\n",
    "    \n",
    "    for lclass in unique_classes:\n",
    "        TN=0\n",
    "        TP=0\n",
    "        FN=0\n",
    "        FP=0\n",
    "        freq = class_dict[lclass]\n",
    "        for i in predicted_y:\n",
    "            if lclass == (test.values)[j][target] and i==lclass: \n",
    "                TP+=1\n",
    "            elif lclass!= (test.values)[j][target] and i==lclass:\n",
    "                FP+=1\n",
    "            elif lclass!= (test.values)[j][target] and i!=lclass:\n",
    "                TN+=1\n",
    "            elif lclass == (test.values)[j][target] and i!=lclass:\n",
    "                FN+=1\n",
    "            j+=1\n",
    "        j=0    \n",
    "\n",
    "        accuracy +=  (freq/size)*((TP+TN)/(TP+TN+FP+FN))\n",
    "        precision += (freq/size)*((TP)/(TP+FP))\n",
    "        recall += (freq/size)*((TP)/(TP+FN))\n",
    "        fscore += (freq/size)*(2/((1/precision)+(1/recall)))\n",
    "    return accuracy,precision,recall,fscore"
   ]
  },
  {
   "cell_type": "markdown",
   "metadata": {},
   "source": [
    "## Question - 1\n",
    "### A. Datasets -- Robot1 and Robot2"
   ]
  },
  {
   "cell_type": "markdown",
   "metadata": {},
   "source": [
    "### 1. Implement a KNN classifier for each of the datasets. Report precision, recall, f1 score and accuracy. Compare your result with in-built(scikit-learn) KNN function to check correctness of your algorithm."
   ]
  },
  {
   "cell_type": "code",
   "execution_count": 450,
   "metadata": {},
   "outputs": [
    {
     "name": "stdout",
     "output_type": "stream",
     "text": [
      "Robot1\n",
      "===================================\n",
      "Accuracy =  0.84\n",
      "Precision =  1.0\n",
      "Recall =  0.8095238095238095\n",
      "fscore =  0.8947368421052632\n",
      "\n",
      "\n",
      "Robot2\n",
      "===================================\n",
      "Accuracy =  0.92\n",
      "Precision =  1.0\n",
      "Recall =  0.8181818181818182\n",
      "fscore =  0.8999999999999999\n",
      "\n",
      "\n",
      "Iris\n",
      "===================================\n",
      "Accuracy =  0.9780521262002742\n",
      "Precision =  0.9682539682539681\n",
      "Recall =  0.9629629629629629\n",
      "fscore =  0.6615986914139392\n"
     ]
    }
   ],
   "source": [
    "#Robot1\n",
    "location = 'RobotDataset/Robot1'\n",
    "test,train = get_test_train(location)\n",
    "test = pd.DataFrame(np.delete(test.values,7,1))\n",
    "train = pd.DataFrame(np.delete(train.values,7,1))\n",
    "K = 7\n",
    "target = 0\n",
    "predicted_y = KNN(test,train,K,'euclid',target)\n",
    "accuracy,precision,recall,fscore = BinaryMeasure(predicted_y,test,target)\n",
    "print(\"Robot1\")\n",
    "print(\"===================================\")\n",
    "print(\"Accuracy = \",accuracy)\n",
    "print(\"Precision = \",precision)\n",
    "print(\"Recall = \",recall)\n",
    "print(\"fscore = \",fscore)\n",
    "\n",
    "print(\"\\n\")\n",
    "\n",
    "#Robot2\n",
    "location = 'RobotDataset/Robot2'\n",
    "test,train = get_test_train(location)\n",
    "test = pd.DataFrame(np.delete(test.values,7,1))\n",
    "train = pd.DataFrame(np.delete(train.values,7,1))\n",
    "K = 7\n",
    "target = 0\n",
    "predicted_y = KNN(test,train,K,'euclid',target)\n",
    "accuracy,precision,recall,fscore = BinaryMeasure(predicted_y,test,target)\n",
    "print(\"Robot2\")\n",
    "print(\"===================================\")\n",
    "print(\"Accuracy = \",accuracy)\n",
    "print(\"Precision = \",precision)\n",
    "print(\"Recall = \",recall)\n",
    "print(\"fscore = \",fscore)\n",
    "\n",
    "print(\"\\n\")\n",
    "\n",
    "#Iris\n",
    "location = 'Iris/Iris.csv'\n",
    "test,train = get_test_train(location)\n",
    "K = 7\n",
    "target = 4\n",
    "predicted_y = KNN(test,train,K,'euclid',target)\n",
    "accuracy,precision,recall,fscore = MultipleMeasure(predicted_y,test,train,target)\n",
    "print(\"Iris\")\n",
    "print(\"===================================\")\n",
    "print(\"Accuracy = \",accuracy)\n",
    "print(\"Precision = \",precision)\n",
    "print(\"Recall = \",recall)\n",
    "print(\"fscore = \",fscore)\n"
   ]
  },
  {
   "cell_type": "markdown",
   "metadata": {},
   "source": [
    "### 2. Use different distance measures as applicable. Plot graph to report accuracy with change in value of K. Also suggest possible reason for better performance."
   ]
  },
  {
   "cell_type": "code",
   "execution_count": 451,
   "metadata": {},
   "outputs": [],
   "source": [
    "def gen_KNN_plot(test,train,target,binary):\n",
    "    distanceMeasures = ['euclid','cheby'] \n",
    "    accuracy_array1 = []\n",
    "    accuracy_array2 = []\n",
    "    for dist_measure in distanceMeasures:\n",
    "        K = 1\n",
    "        K_array = []\n",
    "        accuracy_array2 = []\n",
    "        while K<= math.sqrt(len(train)):\n",
    "            predicted_y = KNN(test,train,K,dist_measure,target)\n",
    "            if binary == 1:\n",
    "                accuracy,precision,recall,fscore = BinaryMeasure(predicted_y,test,target)\n",
    "            elif binary == 0:\n",
    "                accuracy,precision,recall,fscore = MultipleMeasure(predicted_y,test,train,target)\n",
    "            K_array.append(K)\n",
    "            accuracy_array2.append(accuracy)\n",
    "            K+=2\n",
    "        if dist_measure == 'euclid':    \n",
    "            accuracy_array1 = accuracy_array2.copy()    \n",
    "    plt.plot(K_array,accuracy_array1,c='b',label = 'euclid')\n",
    "    plt.plot(K_array,accuracy_array2,c='r',label = 'chebychev')\n",
    "    plt.legend()\n",
    "    plt.show()\n"
   ]
  },
  {
   "cell_type": "code",
   "execution_count": 427,
   "metadata": {},
   "outputs": [
    {
     "data": {
      "image/png": "[encoded data removed]",
      "text/plain": [
       "<Figure size 432x288 with 1 Axes>"
      ]
     },
     "metadata": {
      "needs_background": "light"
     },
     "output_type": "display_data"
    },
    {
     "data": {
      "image/png": "[encoded data removed]",
      "text/plain": [
       "<Figure size 432x288 with 1 Axes>"
      ]
     },
     "metadata": {
      "needs_background": "light"
     },
     "output_type": "display_data"
    },
    {
     "data": {
      "image/png": "[encoded data removed]",
      "text/plain": [
       "<Figure size 432x288 with 1 Axes>"
      ]
     },
     "metadata": {
      "needs_background": "light"
     },
     "output_type": "display_data"
    }
   ],
   "source": [
    "location = 'RobotDataset/Robot1'\n",
    "test,train = get_test_train(location)\n",
    "test = pd.DataFrame(np.delete(test.values,7,1))\n",
    "train = pd.DataFrame(np.delete(train.values,7,1))\n",
    "target=0\n",
    "binary = 1\n",
    "gen_KNN_plot(test,train,target,binary)\n",
    "\n",
    "location = 'RobotDataset/Robot2'\n",
    "test,train = get_test_train(location)\n",
    "test = pd.DataFrame(np.delete(test.values,7,1))\n",
    "train = pd.DataFrame(np.delete(train.values,7,1))\n",
    "target=0\n",
    "binary=1\n",
    "gen_KNN_plot(test,train,target,binary)\n",
    "\n",
    "location = 'Iris/Iris.csv'\n",
    "test,train = get_test_train(location)\n",
    "target = 4\n",
    "binary=0\n",
    "gen_KNN_plot(test,train,target,binary)"
   ]
  },
  {
   "cell_type": "markdown",
   "metadata": {},
   "source": [
    "## Question - 2\n",
    "### A bank is implementing a system to identify potential customers who have higher probablity of availing loans to increase its profit. Implement Naive Bayes classifier on this dataset to help bank achieve its goal. Report your observations and accuracy of the model."
   ]
  },
  {
   "cell_type": "code",
   "execution_count": 487,
   "metadata": {},
   "outputs": [
    {
     "name": "stdout",
     "output_type": "stream",
     "text": [
      "0.9155555555555556 0.5196078431372549 0.6625 0.5824175824175825\n"
     ]
    }
   ],
   "source": [
    "location = 'LoanDataset/data.csv'\n",
    "test,train = get_test_train(location)\n",
    "catcolumns = [7,10,11,12,13]\n",
    "target = 9\n",
    "NaiveModel = NaiveBayes(train,target,catcolumns)\n",
    "NaivePredict(NaiveModel,test,train,target,catcolumns)"
   ]
  },
  {
   "cell_type": "code",
   "execution_count": null,
   "metadata": {},
   "outputs": [],
   "source": []
  }
 ],
 "metadata": {
  "kernelspec": {
   "display_name": "Python 3",
   "language": "python",
   "name": "python3"
  },
  "language_info": {
   "codemirror_mode": {
    "name": "ipython",
    "version": 3
   },
   "file_extension": ".py",
   "mimetype": "text/x-python",
   "name": "python",
   "nbconvert_exporter": "python",
   "pygments_lexer": "ipython3",
   "version": "3.7.1"
  }
 },
 "nbformat": 4,
 "nbformat_minor": 2
}
