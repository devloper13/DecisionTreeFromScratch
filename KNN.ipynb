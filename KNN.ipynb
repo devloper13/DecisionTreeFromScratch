{
 "cells": [
  {
   "cell_type": "code",
   "execution_count": 86,
   "metadata": {},
   "outputs": [],
   "source": [
    "import numpy as np\n",
    "import pandas as pd\n",
    "import math\n",
    "import matplotlib.pyplot as plt"
   ]
  },
  {
   "cell_type": "code",
   "execution_count": 96,
   "metadata": {},
   "outputs": [],
   "source": [
    "location = '~/Documents/SMAI/Assignment2/RobotDataset/Robot1'\n",
    "dataframe = pd.read_csv(location)\n",
    "train  = dataframe[:int(0.8*len(dataframe))]\n",
    "test = dataframe[int(0.8*len(dataframe)):]"
   ]
  },
  {
   "cell_type": "code",
   "execution_count": 97,
   "metadata": {},
   "outputs": [],
   "source": [
    "def predict(test_row,train_row):\n",
    "    euclid_dist = 0\n",
    "    for attribute in range(1,len(test_row) - 1):\n",
    "        euclid_dist+=(pow(test_row[attribute] - train_row[attribute],2))\n",
    "    return euclid_dist    "
   ]
  },
  {
   "cell_type": "code",
   "execution_count": 98,
   "metadata": {
    "scrolled": false
   },
   "outputs": [],
   "source": [
    "def getsecond(item):\n",
    "    return item[1]\n",
    "def KNN(test,train,K):\n",
    "    predicted = []\n",
    "    for test_row in test.values:\n",
    "        knn = []\n",
    "        count_0 = 0\n",
    "        count_1 = 0\n",
    "        for train_row in train.values:\n",
    "            y = predict(test_row,train_row)\n",
    "            knn.append((train_row[0],y))\n",
    "        knn.sort(key = getsecond)\n",
    "        for i in range(0,K):\n",
    "            if knn[i][0] == 0:\n",
    "                count_0+=1\n",
    "            else: count_1+=1\n",
    "        if count_1>=count_0:\n",
    "            predicted.append(1)\n",
    "        else:\n",
    "            predicted.append(0)\n",
    "    return predicted        "
   ]
  },
  {
   "cell_type": "code",
   "execution_count": 99,
   "metadata": {},
   "outputs": [],
   "source": [
    "def measure(predicted_y,test):\n",
    "    j = 0\n",
    "    TN=0\n",
    "    TP=0\n",
    "    FN=0\n",
    "    FP=0\n",
    "    for i in predicted_y:\n",
    "        if i==0 and i == (test.values)[j][0]:\n",
    "            TN+=1\n",
    "        elif i==0 and i!= (test.values)[j][0]:\n",
    "            FP+=1\n",
    "        elif i==1 and i == (test.values)[j][0]:\n",
    "            TP+=1\n",
    "        elif i==1 and i!= (test.values)[j][0]:\n",
    "            FN+=1\n",
    "        j+=1\n",
    "        \n",
    "    accuracy =  (TP+TN)/(TP+TN+FP+FN)\n",
    "    return accuracy"
   ]
  },
  {
   "cell_type": "code",
   "execution_count": 102,
   "metadata": {},
   "outputs": [],
   "source": [
    "def gen_KNN_plot():\n",
    "    K = 1\n",
    "    K_array = []\n",
    "    accuracy_array = []\n",
    "    while K<= math.sqrt(len(train)):\n",
    "        predicted_y = KNN(test,train,K)\n",
    "        accuracy = measure(predicted_y,test)\n",
    "        K_array.append(K)\n",
    "        accuracy_array.append(accuracy)\n",
    "        K+=1\n",
    "    plt.plot(K_array,accuracy_array)  \n",
    "\n",
    "    plt.show()\n"
   ]
  },
  {
   "cell_type": "code",
   "execution_count": 103,
   "metadata": {},
   "outputs": [
    {
     "data": {
      "image/png": "[encoded data removed]",
      "text/plain": [
       "<Figure size 432x288 with 1 Axes>"
      ]
     },
     "metadata": {
      "needs_background": "light"
     },
     "output_type": "display_data"
    }
   ],
   "source": [
    "gen_KNN_plot()"
   ]
  },
  {
   "cell_type": "code",
   "execution_count": 105,
   "metadata": {},
   "outputs": [
    {
     "name": "stdout",
     "output_type": "stream",
     "text": [
      "0.88\n"
     ]
    }
   ],
   "source": [
    "predicted_y = KNN(test,train,8)\n",
    "accuracy = measure(predicted_y,test)\n",
    "print(accuracy)"
   ]
  },
  {
   "cell_type": "code",
   "execution_count": null,
   "metadata": {},
   "outputs": [],
   "source": []
  }
 ],
 "metadata": {
  "kernelspec": {
   "display_name": "Python 3",
   "language": "python",
   "name": "python3"
  },
  "language_info": {
   "codemirror_mode": {
    "name": "ipython",
    "version": 3
   },
   "file_extension": ".py",
   "mimetype": "text/x-python",
   "name": "python",
   "nbconvert_exporter": "python",
   "pygments_lexer": "ipython3",
   "version": "3.7.1"
  }
 },
 "nbformat": 4,
 "nbformat_minor": 2
}
