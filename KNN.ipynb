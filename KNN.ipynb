{
 "cells": [
  {
   "cell_type": "code",
   "execution_count": 64,
   "metadata": {},
   "outputs": [],
   "source": [
    "import numpy as np\n",
    "import pandas as pd\n",
    "import math\n",
    "import matplotlib.pyplot as plt"
   ]
  },
  {
   "cell_type": "code",
   "execution_count": 65,
   "metadata": {},
   "outputs": [],
   "source": [
    "def get_test_train(location):\n",
    "    location = '~/Documents/SMAI/Assignment2/' + location\n",
    "    dataframe = pd.read_csv(location)\n",
    "    train  = dataframe[:int(0.8*len(dataframe))]\n",
    "    test = dataframe[int(0.8*len(dataframe)):]\n",
    "    return test,train"
   ]
  },
  {
   "cell_type": "code",
   "execution_count": 85,
   "metadata": {},
   "outputs": [],
   "source": [
    "def minkowski_predict(test_row,train_row,power):\n",
    "    dist = 0\n",
    "    for attribute in range(1,len(test_row) - 1):\n",
    "        dist+=(pow(abs(test_row[attribute] - train_row[attribute]),power))\n",
    "    return dist    "
   ]
  },
  {
   "cell_type": "code",
   "execution_count": 86,
   "metadata": {
    "scrolled": false
   },
   "outputs": [],
   "source": [
    "def getsecond(item):\n",
    "    return item[1]\n",
    "def KNN(test,train,K,dist_measure):\n",
    "    if dist_measure == 'euclid':\n",
    "        power = 2\n",
    "    elif dist_measure == 'cheby':\n",
    "        power = 1\n",
    "    predicted = []\n",
    "    for test_row in test.values:\n",
    "        knn = []\n",
    "        count_0 = 0\n",
    "        count_1 = 0\n",
    "        for train_row in train.values:\n",
    "            y = minkowski_predict(test_row,train_row,power)\n",
    "            knn.append((train_row[0],y))\n",
    "        knn.sort(key = getsecond)\n",
    "        for i in range(0,K):\n",
    "            if knn[i][0] == 0:\n",
    "                count_0+=1\n",
    "            else: count_1+=1\n",
    "        if count_1>=count_0:\n",
    "            predicted.append(1)\n",
    "        else:\n",
    "            predicted.append(0)\n",
    "    return predicted        "
   ]
  },
  {
   "cell_type": "code",
   "execution_count": 94,
   "metadata": {},
   "outputs": [],
   "source": [
    "def measure(predicted_y,test):\n",
    "    j = 0\n",
    "    TN=0\n",
    "    TP=0\n",
    "    FN=0\n",
    "    FP=0\n",
    "    for i in predicted_y:\n",
    "        if i==0 and i == (test.values)[j][0]:\n",
    "            TN+=1\n",
    "        elif i==0 and i!= (test.values)[j][0]:\n",
    "            FP+=1\n",
    "        elif i==1 and i == (test.values)[j][0]:\n",
    "            TP+=1\n",
    "        elif i==1 and i!= (test.values)[j][0]:\n",
    "            FN+=1\n",
    "        j+=1\n",
    "        \n",
    "    accuracy =  (TP+TN)/(TP+TN+FP+FN)\n",
    "    precision = (TP)/(TP+FP)\n",
    "    recall = (TP)/(TP+FN)\n",
    "    fscore = 2/((1/precision)+(1/recall))\n",
    "    return accuracy,precision,recall,fscore"
   ]
  },
  {
   "cell_type": "markdown",
   "metadata": {},
   "source": [
    "## Question - 1\n",
    "### Datasets -- Robot1 and Robot2"
   ]
  },
  {
   "cell_type": "markdown",
   "metadata": {},
   "source": [
    "### 1. Implement a KNN classifier for each of the datasets. Report precision, recall, f1 score and accuracy. Compare your result with in-built(scikit-learn) KNN function to check correctness of your algorithm."
   ]
  },
  {
   "cell_type": "code",
   "execution_count": 96,
   "metadata": {},
   "outputs": [
    {
     "name": "stdout",
     "output_type": "stream",
     "text": [
      "Accuracy =  0.84\n",
      "Precision =  0.8095238095238095\n",
      "Recall =  1.0\n",
      "fscore =  0.8947368421052632\n"
     ]
    }
   ],
   "source": [
    "#Robot1\n",
    "location = 'RobotDataset/Robot1'\n",
    "test,train = get_test_train(location)\n",
    "K = 7\n",
    "predicted_y = KNN(test,train,K,'euclid')\n",
    "accuracy,precision,recall,fscore = measure(predicted_y,test)\n",
    "print(\"Accuracy = \",accuracy)\n",
    "print(\"Precision = \",precision)\n",
    "print(\"Recall = \",recall)\n",
    "print(\"fscore = \",fscore)"
   ]
  },
  {
   "cell_type": "markdown",
   "metadata": {},
   "source": [
    "### 2. Use different distance measures as applicable. Plot graph to report accuracy with change in value of K. Also suggest possible reason for better performance."
   ]
  },
  {
   "cell_type": "code",
   "execution_count": 99,
   "metadata": {},
   "outputs": [],
   "source": [
    "def gen_KNN_plot(test,train):\n",
    "    distanceMeasures = ['euclid','cheby'] \n",
    "    accuracy_array1 = []\n",
    "    accuracy_array2 = []\n",
    "    for dist_measure in distanceMeasures:\n",
    "        K = 1\n",
    "        K_array = []\n",
    "        accuracy_array2 = []\n",
    "        while K<= math.sqrt(len(train)):\n",
    "            predicted_y = KNN(test,train,K,dist_measure)\n",
    "            accuracy,precision,recall,fscore = measure(predicted_y,test)\n",
    "            K_array.append(K)\n",
    "            accuracy_array2.append(accuracy)\n",
    "            K+=2\n",
    "        if dist_measure == 'euclid':    \n",
    "            accuracy_array1 = accuracy_array2.copy()    \n",
    "    plt.plot(K_array,accuracy_array1,c='b',label = 'euclid')  \n",
    "    plt.plot(K_array,accuracy_array2,c='r',label = 'chebychev')\n",
    "    plt.legend()\n",
    "    plt.show()\n"
   ]
  },
  {
   "cell_type": "code",
   "execution_count": 100,
   "metadata": {},
   "outputs": [
    {
     "data": {
      "image/png": "[encoded data removed]",
      "text/plain": [
       "<Figure size 432x288 with 1 Axes>"
      ]
     },
     "metadata": {
      "needs_background": "light"
     },
     "output_type": "display_data"
    },
    {
     "data": {
      "image/png": "[encoded data removed]",
      "text/plain": [
       "<Figure size 432x288 with 1 Axes>"
      ]
     },
     "metadata": {
      "needs_background": "light"
     },
     "output_type": "display_data"
    }
   ],
   "source": [
    "location = 'RobotDataset/Robot1'\n",
    "test,train = get_test_train(location)\n",
    "gen_KNN_plot(test,train)\n",
    "\n",
    "location = 'RobotDataset/Robot2'\n",
    "test,train = get_test_train(location)\n",
    "gen_KNN_plot(test,train)"
   ]
  },
  {
   "cell_type": "code",
   "execution_count": null,
   "metadata": {},
   "outputs": [],
   "source": []
  }
 ],
 "metadata": {
  "kernelspec": {
   "display_name": "Python 3",
   "language": "python",
   "name": "python3"
  },
  "language_info": {
   "codemirror_mode": {
    "name": "ipython",
    "version": 3
   },
   "file_extension": ".py",
   "mimetype": "text/x-python",
   "name": "python",
   "nbconvert_exporter": "python",
   "pygments_lexer": "ipython3",
   "version": "3.7.1"
  }
 },
 "nbformat": 4,
 "nbformat_minor": 2
}
